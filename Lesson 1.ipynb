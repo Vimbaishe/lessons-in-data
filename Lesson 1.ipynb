{
 "cells": [
  {
   "cell_type": "markdown",
   "id": "0506f68a",
   "metadata": {},
   "source": [
    "# Operaters homework"
   ]
  },
  {
   "cell_type": "code",
   "execution_count": 1,
   "id": "9e222a72",
   "metadata": {},
   "outputs": [
    {
     "name": "stdout",
     "output_type": "stream",
     "text": [
      "Hello world welcome to Python programming\n"
     ]
    }
   ],
   "source": [
    "print(\"Hello world welcome to Python programming\")"
   ]
  },
  {
   "cell_type": "code",
   "execution_count": 2,
   "id": "8b2eb843",
   "metadata": {},
   "outputs": [
    {
     "name": "stdout",
     "output_type": "stream",
     "text": [
      "Sage said,\"Keep practicing,keep practicing\"\n"
     ]
    }
   ],
   "source": [
    "print('Sage said,\"Keep practicing,keep practicing\"')"
   ]
  },
  {
   "cell_type": "markdown",
   "id": "4385014c",
   "metadata": {},
   "source": [
    "Addition Operators"
   ]
  },
  {
   "cell_type": "code",
   "execution_count": 135,
   "id": "015ac469",
   "metadata": {},
   "outputs": [
    {
     "data": {
      "text/plain": [
       "8"
      ]
     },
     "execution_count": 135,
     "metadata": {},
     "output_type": "execute_result"
    }
   ],
   "source": [
    "6+2"
   ]
  },
  {
   "cell_type": "code",
   "execution_count": 136,
   "id": "dadef555",
   "metadata": {},
   "outputs": [
    {
     "data": {
      "text/plain": [
       "11"
      ]
     },
     "execution_count": 136,
     "metadata": {},
     "output_type": "execute_result"
    }
   ],
   "source": [
    "4+7"
   ]
  },
  {
   "cell_type": "code",
   "execution_count": 137,
   "id": "6e925a8d",
   "metadata": {},
   "outputs": [
    {
     "data": {
      "text/plain": [
       "11"
      ]
     },
     "execution_count": 137,
     "metadata": {},
     "output_type": "execute_result"
    }
   ],
   "source": [
    "9+2"
   ]
  },
  {
   "cell_type": "code",
   "execution_count": 138,
   "id": "95f0efe2",
   "metadata": {},
   "outputs": [
    {
     "data": {
      "text/plain": [
       "31"
      ]
     },
     "execution_count": 138,
     "metadata": {},
     "output_type": "execute_result"
    }
   ],
   "source": [
    "8+23"
   ]
  },
  {
   "cell_type": "code",
   "execution_count": 139,
   "id": "e0cb21a6",
   "metadata": {},
   "outputs": [
    {
     "data": {
      "text/plain": [
       "83"
      ]
     },
     "execution_count": 139,
     "metadata": {},
     "output_type": "execute_result"
    }
   ],
   "source": [
    "77+6"
   ]
  },
  {
   "cell_type": "code",
   "execution_count": 140,
   "id": "d5e8f7e3",
   "metadata": {},
   "outputs": [
    {
     "data": {
      "text/plain": [
       "112"
      ]
     },
     "execution_count": 140,
     "metadata": {},
     "output_type": "execute_result"
    }
   ],
   "source": [
    "103+9"
   ]
  },
  {
   "cell_type": "code",
   "execution_count": 141,
   "id": "9101d933",
   "metadata": {},
   "outputs": [
    {
     "data": {
      "text/plain": [
       "42"
      ]
     },
     "execution_count": 141,
     "metadata": {},
     "output_type": "execute_result"
    }
   ],
   "source": [
    "15+27"
   ]
  },
  {
   "cell_type": "code",
   "execution_count": 142,
   "id": "2d8b7866",
   "metadata": {},
   "outputs": [
    {
     "data": {
      "text/plain": [
       "36"
      ]
     },
     "execution_count": 142,
     "metadata": {},
     "output_type": "execute_result"
    }
   ],
   "source": [
    "34+2"
   ]
  },
  {
   "cell_type": "code",
   "execution_count": 143,
   "id": "e674c282",
   "metadata": {},
   "outputs": [
    {
     "data": {
      "text/plain": [
       "57"
      ]
     },
     "execution_count": 143,
     "metadata": {},
     "output_type": "execute_result"
    }
   ],
   "source": [
    "1+56"
   ]
  },
  {
   "cell_type": "code",
   "execution_count": 144,
   "id": "e811cf59",
   "metadata": {},
   "outputs": [
    {
     "data": {
      "text/plain": [
       "165"
      ]
     },
     "execution_count": 144,
     "metadata": {},
     "output_type": "execute_result"
    }
   ],
   "source": [
    "69+96"
   ]
  },
  {
   "cell_type": "markdown",
   "id": "58ae8d44",
   "metadata": {},
   "source": [
    "Subtraction Operator"
   ]
  },
  {
   "cell_type": "code",
   "execution_count": 125,
   "id": "f8f9a026",
   "metadata": {},
   "outputs": [
    {
     "data": {
      "text/plain": [
       "5"
      ]
     },
     "execution_count": 125,
     "metadata": {},
     "output_type": "execute_result"
    }
   ],
   "source": [
    "9-4"
   ]
  },
  {
   "cell_type": "code",
   "execution_count": 126,
   "id": "cf65ca72",
   "metadata": {},
   "outputs": [
    {
     "data": {
      "text/plain": [
       "17"
      ]
     },
     "execution_count": 126,
     "metadata": {},
     "output_type": "execute_result"
    }
   ],
   "source": [
    "45-28"
   ]
  },
  {
   "cell_type": "code",
   "execution_count": 127,
   "id": "c7e40f45",
   "metadata": {},
   "outputs": [
    {
     "data": {
      "text/plain": [
       "19"
      ]
     },
     "execution_count": 127,
     "metadata": {},
     "output_type": "execute_result"
    }
   ],
   "source": [
    "97-78"
   ]
  },
  {
   "cell_type": "code",
   "execution_count": 128,
   "id": "27ba771e",
   "metadata": {},
   "outputs": [
    {
     "data": {
      "text/plain": [
       "15"
      ]
     },
     "execution_count": 128,
     "metadata": {},
     "output_type": "execute_result"
    }
   ],
   "source": [
    "24-9"
   ]
  },
  {
   "cell_type": "code",
   "execution_count": 129,
   "id": "352ff3fe",
   "metadata": {},
   "outputs": [
    {
     "data": {
      "text/plain": [
       "47"
      ]
     },
     "execution_count": 129,
     "metadata": {},
     "output_type": "execute_result"
    }
   ],
   "source": [
    "56-9"
   ]
  },
  {
   "cell_type": "code",
   "execution_count": 130,
   "id": "fcba28ae",
   "metadata": {},
   "outputs": [
    {
     "data": {
      "text/plain": [
       "1"
      ]
     },
     "execution_count": 130,
     "metadata": {},
     "output_type": "execute_result"
    }
   ],
   "source": [
    "29-28"
   ]
  },
  {
   "cell_type": "code",
   "execution_count": 131,
   "id": "9f22d5f8",
   "metadata": {},
   "outputs": [
    {
     "data": {
      "text/plain": [
       "11"
      ]
     },
     "execution_count": 131,
     "metadata": {},
     "output_type": "execute_result"
    }
   ],
   "source": [
    "70-59"
   ]
  },
  {
   "cell_type": "code",
   "execution_count": 132,
   "id": "499a5c5f",
   "metadata": {},
   "outputs": [
    {
     "data": {
      "text/plain": [
       "9"
      ]
     },
     "execution_count": 132,
     "metadata": {},
     "output_type": "execute_result"
    }
   ],
   "source": [
    "87-78"
   ]
  },
  {
   "cell_type": "code",
   "execution_count": 133,
   "id": "3baaaefc",
   "metadata": {},
   "outputs": [
    {
     "data": {
      "text/plain": [
       "85"
      ]
     },
     "execution_count": 133,
     "metadata": {},
     "output_type": "execute_result"
    }
   ],
   "source": [
    "111-26"
   ]
  },
  {
   "cell_type": "code",
   "execution_count": 134,
   "id": "760bc373",
   "metadata": {},
   "outputs": [
    {
     "data": {
      "text/plain": [
       "7"
      ]
     },
     "execution_count": 134,
     "metadata": {},
     "output_type": "execute_result"
    }
   ],
   "source": [
    "36-29"
   ]
  },
  {
   "cell_type": "markdown",
   "id": "be38880f",
   "metadata": {},
   "source": [
    "Division Operator"
   ]
  },
  {
   "cell_type": "code",
   "execution_count": 115,
   "id": "5610ec9b",
   "metadata": {},
   "outputs": [
    {
     "data": {
      "text/plain": [
       "33.0"
      ]
     },
     "execution_count": 115,
     "metadata": {},
     "output_type": "execute_result"
    }
   ],
   "source": [
    "99/3"
   ]
  },
  {
   "cell_type": "code",
   "execution_count": 116,
   "id": "17979ef7",
   "metadata": {},
   "outputs": [
    {
     "data": {
      "text/plain": [
       "9.0"
      ]
     },
     "execution_count": 116,
     "metadata": {},
     "output_type": "execute_result"
    }
   ],
   "source": [
    "45/5"
   ]
  },
  {
   "cell_type": "code",
   "execution_count": 117,
   "id": "cc53b9dd",
   "metadata": {},
   "outputs": [
    {
     "data": {
      "text/plain": [
       "26.0"
      ]
     },
     "execution_count": 117,
     "metadata": {},
     "output_type": "execute_result"
    }
   ],
   "source": [
    "78/3"
   ]
  },
  {
   "cell_type": "code",
   "execution_count": 118,
   "id": "d38046cd",
   "metadata": {},
   "outputs": [
    {
     "data": {
      "text/plain": [
       "7.5"
      ]
     },
     "execution_count": 118,
     "metadata": {},
     "output_type": "execute_result"
    }
   ],
   "source": [
    "30/4"
   ]
  },
  {
   "cell_type": "code",
   "execution_count": 119,
   "id": "458f177a",
   "metadata": {},
   "outputs": [
    {
     "data": {
      "text/plain": [
       "13.0"
      ]
     },
     "execution_count": 119,
     "metadata": {},
     "output_type": "execute_result"
    }
   ],
   "source": [
    "78/6"
   ]
  },
  {
   "cell_type": "code",
   "execution_count": 120,
   "id": "06347e76",
   "metadata": {},
   "outputs": [
    {
     "data": {
      "text/plain": [
       "5.0"
      ]
     },
     "execution_count": 120,
     "metadata": {},
     "output_type": "execute_result"
    }
   ],
   "source": [
    "100/20"
   ]
  },
  {
   "cell_type": "code",
   "execution_count": 121,
   "id": "c154dc40",
   "metadata": {},
   "outputs": [
    {
     "data": {
      "text/plain": [
       "2.0"
      ]
     },
     "execution_count": 121,
     "metadata": {},
     "output_type": "execute_result"
    }
   ],
   "source": [
    "30/15"
   ]
  },
  {
   "cell_type": "code",
   "execution_count": 122,
   "id": "4e366737",
   "metadata": {},
   "outputs": [
    {
     "data": {
      "text/plain": [
       "8.0"
      ]
     },
     "execution_count": 122,
     "metadata": {},
     "output_type": "execute_result"
    }
   ],
   "source": [
    "200/25"
   ]
  },
  {
   "cell_type": "code",
   "execution_count": 123,
   "id": "12d08f7c",
   "metadata": {},
   "outputs": [
    {
     "data": {
      "text/plain": [
       "19.4"
      ]
     },
     "execution_count": 123,
     "metadata": {},
     "output_type": "execute_result"
    }
   ],
   "source": [
    "97/5"
   ]
  },
  {
   "cell_type": "code",
   "execution_count": 124,
   "id": "e13f8d7f",
   "metadata": {},
   "outputs": [
    {
     "data": {
      "text/plain": [
       "15.0"
      ]
     },
     "execution_count": 124,
     "metadata": {},
     "output_type": "execute_result"
    }
   ],
   "source": [
    "60/4"
   ]
  },
  {
   "cell_type": "markdown",
   "id": "3e334fd1",
   "metadata": {},
   "source": [
    "Multiplication Operator"
   ]
  },
  {
   "cell_type": "code",
   "execution_count": 105,
   "id": "755be2ab",
   "metadata": {},
   "outputs": [
    {
     "data": {
      "text/plain": [
       "15"
      ]
     },
     "execution_count": 105,
     "metadata": {},
     "output_type": "execute_result"
    }
   ],
   "source": [
    "5*3"
   ]
  },
  {
   "cell_type": "code",
   "execution_count": 106,
   "id": "49883822",
   "metadata": {},
   "outputs": [
    {
     "data": {
      "text/plain": [
       "14"
      ]
     },
     "execution_count": 106,
     "metadata": {},
     "output_type": "execute_result"
    }
   ],
   "source": [
    "7*2"
   ]
  },
  {
   "cell_type": "code",
   "execution_count": 107,
   "id": "9202a3b6",
   "metadata": {},
   "outputs": [
    {
     "data": {
      "text/plain": [
       "45"
      ]
     },
     "execution_count": 107,
     "metadata": {},
     "output_type": "execute_result"
    }
   ],
   "source": [
    "5*9"
   ]
  },
  {
   "cell_type": "code",
   "execution_count": 108,
   "id": "63be26c3",
   "metadata": {},
   "outputs": [
    {
     "data": {
      "text/plain": [
       "340"
      ]
     },
     "execution_count": 108,
     "metadata": {},
     "output_type": "execute_result"
    }
   ],
   "source": [
    "10*34"
   ]
  },
  {
   "cell_type": "code",
   "execution_count": 109,
   "id": "7d59c1de",
   "metadata": {},
   "outputs": [
    {
     "data": {
      "text/plain": [
       "243"
      ]
     },
     "execution_count": 109,
     "metadata": {},
     "output_type": "execute_result"
    }
   ],
   "source": [
    "27*9"
   ]
  },
  {
   "cell_type": "code",
   "execution_count": 110,
   "id": "22842047",
   "metadata": {},
   "outputs": [
    {
     "data": {
      "text/plain": [
       "4"
      ]
     },
     "execution_count": 110,
     "metadata": {},
     "output_type": "execute_result"
    }
   ],
   "source": [
    "4*1"
   ]
  },
  {
   "cell_type": "code",
   "execution_count": 111,
   "id": "354e54da",
   "metadata": {},
   "outputs": [
    {
     "data": {
      "text/plain": [
       "48"
      ]
     },
     "execution_count": 111,
     "metadata": {},
     "output_type": "execute_result"
    }
   ],
   "source": [
    "8*6"
   ]
  },
  {
   "cell_type": "code",
   "execution_count": 112,
   "id": "6e18a8ae",
   "metadata": {},
   "outputs": [
    {
     "data": {
      "text/plain": [
       "324"
      ]
     },
     "execution_count": 112,
     "metadata": {},
     "output_type": "execute_result"
    }
   ],
   "source": [
    "54*6"
   ]
  },
  {
   "cell_type": "code",
   "execution_count": 113,
   "id": "7d447fc1",
   "metadata": {},
   "outputs": [
    {
     "data": {
      "text/plain": [
       "161"
      ]
     },
     "execution_count": 113,
     "metadata": {},
     "output_type": "execute_result"
    }
   ],
   "source": [
    "23*7"
   ]
  },
  {
   "cell_type": "code",
   "execution_count": 114,
   "id": "2248d4e7",
   "metadata": {},
   "outputs": [
    {
     "data": {
      "text/plain": [
       "56"
      ]
     },
     "execution_count": 114,
     "metadata": {},
     "output_type": "execute_result"
    }
   ],
   "source": [
    "7*8"
   ]
  },
  {
   "cell_type": "markdown",
   "id": "2b07aa98",
   "metadata": {},
   "source": [
    "Exponential Operators"
   ]
  },
  {
   "cell_type": "code",
   "execution_count": 90,
   "id": "73e3c909",
   "metadata": {},
   "outputs": [
    {
     "data": {
      "text/plain": [
       "4"
      ]
     },
     "execution_count": 90,
     "metadata": {},
     "output_type": "execute_result"
    }
   ],
   "source": [
    "2**2"
   ]
  },
  {
   "cell_type": "code",
   "execution_count": 91,
   "id": "c3f3c7d4",
   "metadata": {},
   "outputs": [
    {
     "data": {
      "text/plain": [
       "16"
      ]
     },
     "execution_count": 91,
     "metadata": {},
     "output_type": "execute_result"
    }
   ],
   "source": [
    "4**2"
   ]
  },
  {
   "cell_type": "code",
   "execution_count": 102,
   "id": "8e35c7ec",
   "metadata": {},
   "outputs": [
    {
     "data": {
      "text/plain": [
       "1296"
      ]
     },
     "execution_count": 102,
     "metadata": {},
     "output_type": "execute_result"
    }
   ],
   "source": [
    "6**4"
   ]
  },
  {
   "cell_type": "code",
   "execution_count": 101,
   "id": "888cfa20",
   "metadata": {},
   "outputs": [
    {
     "data": {
      "text/plain": [
       "125"
      ]
     },
     "execution_count": 101,
     "metadata": {},
     "output_type": "execute_result"
    }
   ],
   "source": [
    "5**3"
   ]
  },
  {
   "cell_type": "code",
   "execution_count": 94,
   "id": "a47e6b85",
   "metadata": {},
   "outputs": [
    {
     "data": {
      "text/plain": [
       "2401"
      ]
     },
     "execution_count": 94,
     "metadata": {},
     "output_type": "execute_result"
    }
   ],
   "source": [
    "7**4"
   ]
  },
  {
   "cell_type": "code",
   "execution_count": 95,
   "id": "c6a4ec8a",
   "metadata": {},
   "outputs": [
    {
     "data": {
      "text/plain": [
       "729"
      ]
     },
     "execution_count": 95,
     "metadata": {},
     "output_type": "execute_result"
    }
   ],
   "source": [
    "9**3"
   ]
  },
  {
   "cell_type": "code",
   "execution_count": 96,
   "id": "d449cab9",
   "metadata": {},
   "outputs": [
    {
     "data": {
      "text/plain": [
       "225"
      ]
     },
     "execution_count": 96,
     "metadata": {},
     "output_type": "execute_result"
    }
   ],
   "source": [
    "15**2"
   ]
  },
  {
   "cell_type": "code",
   "execution_count": 97,
   "id": "e5f40f8a",
   "metadata": {},
   "outputs": [
    {
     "data": {
      "text/plain": [
       "343"
      ]
     },
     "execution_count": 97,
     "metadata": {},
     "output_type": "execute_result"
    }
   ],
   "source": [
    "7**3"
   ]
  },
  {
   "cell_type": "code",
   "execution_count": 100,
   "id": "6ef0d907",
   "metadata": {},
   "outputs": [
    {
     "data": {
      "text/plain": [
       "512"
      ]
     },
     "execution_count": 100,
     "metadata": {},
     "output_type": "execute_result"
    }
   ],
   "source": [
    "8**3"
   ]
  },
  {
   "cell_type": "code",
   "execution_count": 99,
   "id": "1d52cabb",
   "metadata": {},
   "outputs": [
    {
     "data": {
      "text/plain": [
       "243"
      ]
     },
     "execution_count": 99,
     "metadata": {},
     "output_type": "execute_result"
    }
   ],
   "source": [
    "3**5"
   ]
  },
  {
   "cell_type": "markdown",
   "id": "8e76a939",
   "metadata": {},
   "source": [
    "Floor Division"
   ]
  },
  {
   "cell_type": "code",
   "execution_count": 5,
   "id": "12196825",
   "metadata": {},
   "outputs": [
    {
     "data": {
      "text/plain": [
       "2"
      ]
     },
     "execution_count": 5,
     "metadata": {},
     "output_type": "execute_result"
    }
   ],
   "source": [
    "5//2"
   ]
  },
  {
   "cell_type": "code",
   "execution_count": 82,
   "id": "a478c9f5",
   "metadata": {},
   "outputs": [
    {
     "data": {
      "text/plain": [
       "2"
      ]
     },
     "execution_count": 82,
     "metadata": {},
     "output_type": "execute_result"
    }
   ],
   "source": [
    "7//3"
   ]
  },
  {
   "cell_type": "code",
   "execution_count": 83,
   "id": "bcf234ee",
   "metadata": {},
   "outputs": [
    {
     "data": {
      "text/plain": [
       "1"
      ]
     },
     "execution_count": 83,
     "metadata": {},
     "output_type": "execute_result"
    }
   ],
   "source": [
    "5//4"
   ]
  },
  {
   "cell_type": "code",
   "execution_count": 84,
   "id": "f40d87fd",
   "metadata": {},
   "outputs": [
    {
     "data": {
      "text/plain": [
       "1"
      ]
     },
     "execution_count": 84,
     "metadata": {},
     "output_type": "execute_result"
    }
   ],
   "source": [
    "6//4"
   ]
  },
  {
   "cell_type": "code",
   "execution_count": 85,
   "id": "6b4b7d42",
   "metadata": {},
   "outputs": [
    {
     "data": {
      "text/plain": [
       "1"
      ]
     },
     "execution_count": 85,
     "metadata": {},
     "output_type": "execute_result"
    }
   ],
   "source": [
    "7//5"
   ]
  },
  {
   "cell_type": "code",
   "execution_count": 86,
   "id": "4ab81e84",
   "metadata": {},
   "outputs": [
    {
     "data": {
      "text/plain": [
       "2"
      ]
     },
     "execution_count": 86,
     "metadata": {},
     "output_type": "execute_result"
    }
   ],
   "source": [
    "9//4"
   ]
  },
  {
   "cell_type": "code",
   "execution_count": 87,
   "id": "a211d3d0",
   "metadata": {},
   "outputs": [
    {
     "data": {
      "text/plain": [
       "2"
      ]
     },
     "execution_count": 87,
     "metadata": {},
     "output_type": "execute_result"
    }
   ],
   "source": [
    "18//7"
   ]
  },
  {
   "cell_type": "code",
   "execution_count": 88,
   "id": "a0566691",
   "metadata": {},
   "outputs": [
    {
     "data": {
      "text/plain": [
       "7"
      ]
     },
     "execution_count": 88,
     "metadata": {},
     "output_type": "execute_result"
    }
   ],
   "source": [
    "30//4"
   ]
  },
  {
   "cell_type": "code",
   "execution_count": 89,
   "id": "e44a5b02",
   "metadata": {},
   "outputs": [
    {
     "data": {
      "text/plain": [
       "4"
      ]
     },
     "execution_count": 89,
     "metadata": {},
     "output_type": "execute_result"
    }
   ],
   "source": [
    "25//6"
   ]
  },
  {
   "cell_type": "code",
   "execution_count": 6,
   "id": "98fe329d",
   "metadata": {},
   "outputs": [
    {
     "data": {
      "text/plain": [
       "1"
      ]
     },
     "execution_count": 6,
     "metadata": {},
     "output_type": "execute_result"
    }
   ],
   "source": [
    "8//5"
   ]
  },
  {
   "cell_type": "markdown",
   "id": "a15ef3ae",
   "metadata": {},
   "source": [
    "Modulus Function"
   ]
  },
  {
   "cell_type": "code",
   "execution_count": 80,
   "id": "1dc226e2",
   "metadata": {},
   "outputs": [
    {
     "data": {
      "text/plain": [
       "3"
      ]
     },
     "execution_count": 80,
     "metadata": {},
     "output_type": "execute_result"
    }
   ],
   "source": [
    "13%5"
   ]
  },
  {
   "cell_type": "code",
   "execution_count": 79,
   "id": "1729d0c6",
   "metadata": {},
   "outputs": [
    {
     "data": {
      "text/plain": [
       "1"
      ]
     },
     "execution_count": 79,
     "metadata": {},
     "output_type": "execute_result"
    }
   ],
   "source": [
    "8%7"
   ]
  },
  {
   "cell_type": "code",
   "execution_count": 73,
   "id": "6504599c",
   "metadata": {},
   "outputs": [
    {
     "data": {
      "text/plain": [
       "4"
      ]
     },
     "execution_count": 73,
     "metadata": {},
     "output_type": "execute_result"
    }
   ],
   "source": [
    "9%5"
   ]
  },
  {
   "cell_type": "code",
   "execution_count": 74,
   "id": "3188bfd4",
   "metadata": {},
   "outputs": [
    {
     "data": {
      "text/plain": [
       "2"
      ]
     },
     "execution_count": 74,
     "metadata": {},
     "output_type": "execute_result"
    }
   ],
   "source": [
    "23%7"
   ]
  },
  {
   "cell_type": "code",
   "execution_count": 75,
   "id": "df6bb53e",
   "metadata": {},
   "outputs": [
    {
     "data": {
      "text/plain": [
       "0"
      ]
     },
     "execution_count": 75,
     "metadata": {},
     "output_type": "execute_result"
    }
   ],
   "source": [
    "9%3"
   ]
  },
  {
   "cell_type": "code",
   "execution_count": 76,
   "id": "a353bc65",
   "metadata": {},
   "outputs": [
    {
     "data": {
      "text/plain": [
       "7"
      ]
     },
     "execution_count": 76,
     "metadata": {},
     "output_type": "execute_result"
    }
   ],
   "source": [
    "87%8"
   ]
  },
  {
   "cell_type": "code",
   "execution_count": 77,
   "id": "821595a6",
   "metadata": {},
   "outputs": [
    {
     "data": {
      "text/plain": [
       "6"
      ]
     },
     "execution_count": 77,
     "metadata": {},
     "output_type": "execute_result"
    }
   ],
   "source": [
    "34%7"
   ]
  },
  {
   "cell_type": "code",
   "execution_count": 78,
   "id": "297dd1e2",
   "metadata": {},
   "outputs": [
    {
     "data": {
      "text/plain": [
       "4"
      ]
     },
     "execution_count": 78,
     "metadata": {},
     "output_type": "execute_result"
    }
   ],
   "source": [
    "67%7"
   ]
  },
  {
   "cell_type": "code",
   "execution_count": 72,
   "id": "63d1afa6",
   "metadata": {},
   "outputs": [
    {
     "data": {
      "text/plain": [
       "7"
      ]
     },
     "execution_count": 72,
     "metadata": {},
     "output_type": "execute_result"
    }
   ],
   "source": [
    "55%8"
   ]
  },
  {
   "cell_type": "code",
   "execution_count": 71,
   "id": "b24aa911",
   "metadata": {},
   "outputs": [
    {
     "data": {
      "text/plain": [
       "3"
      ]
     },
     "execution_count": 71,
     "metadata": {},
     "output_type": "execute_result"
    }
   ],
   "source": [
    "87%4"
   ]
  },
  {
   "cell_type": "markdown",
   "id": "d93c1dfc",
   "metadata": {},
   "source": [
    "Assignment Operator"
   ]
  },
  {
   "cell_type": "code",
   "execution_count": 14,
   "id": "55d3a4a4",
   "metadata": {},
   "outputs": [
    {
     "name": "stdout",
     "output_type": "stream",
     "text": [
      "Pamela\n"
     ]
    }
   ],
   "source": [
    "first_name=\"Pamela\"\n",
    "print(first_name)"
   ]
  },
  {
   "cell_type": "code",
   "execution_count": 15,
   "id": "27a73ba6",
   "metadata": {},
   "outputs": [
    {
     "name": "stdout",
     "output_type": "stream",
     "text": [
      "welcome\n"
     ]
    }
   ],
   "source": [
    "greeting=\"welcome\"\n",
    "print(greeting)"
   ]
  },
  {
   "cell_type": "code",
   "execution_count": 11,
   "id": "49243b6e",
   "metadata": {},
   "outputs": [
    {
     "name": "stdout",
     "output_type": "stream",
     "text": [
      "keep\n"
     ]
    }
   ],
   "source": [
    "c=\"keep\"\n",
    "print(c)"
   ]
  },
  {
   "cell_type": "code",
   "execution_count": 64,
   "id": "986a4ee9",
   "metadata": {},
   "outputs": [
    {
     "name": "stdout",
     "output_type": "stream",
     "text": [
      "it\n"
     ]
    }
   ],
   "source": [
    "d=\"it\"\n",
    "print(d)"
   ]
  },
  {
   "cell_type": "code",
   "execution_count": 65,
   "id": "883907b0",
   "metadata": {},
   "outputs": [
    {
     "name": "stdout",
     "output_type": "stream",
     "text": [
      "up\n"
     ]
    }
   ],
   "source": [
    "e=\"up\"\n",
    "print(e)"
   ]
  },
  {
   "cell_type": "code",
   "execution_count": 66,
   "id": "f7668b2b",
   "metadata": {},
   "outputs": [
    {
     "name": "stdout",
     "output_type": "stream",
     "text": [
      "you\n"
     ]
    }
   ],
   "source": [
    "f=\"you\"\n",
    "print(f)"
   ]
  },
  {
   "cell_type": "code",
   "execution_count": 67,
   "id": "b463f6e7",
   "metadata": {},
   "outputs": [
    {
     "name": "stdout",
     "output_type": "stream",
     "text": [
      "are\n"
     ]
    }
   ],
   "source": [
    "g=\"are\"\n",
    "print(g)"
   ]
  },
  {
   "cell_type": "code",
   "execution_count": 68,
   "id": "d404b2a1",
   "metadata": {},
   "outputs": [
    {
     "name": "stdout",
     "output_type": "stream",
     "text": [
      "doing\n"
     ]
    }
   ],
   "source": [
    "h=\"doing\"\n",
    "print(h)"
   ]
  },
  {
   "cell_type": "code",
   "execution_count": 69,
   "id": "9176baf0",
   "metadata": {},
   "outputs": [
    {
     "name": "stdout",
     "output_type": "stream",
     "text": [
      "very\n"
     ]
    }
   ],
   "source": [
    "i=\"very\"\n",
    "print(i)"
   ]
  },
  {
   "cell_type": "code",
   "execution_count": 70,
   "id": "5c01f198",
   "metadata": {},
   "outputs": [
    {
     "name": "stdout",
     "output_type": "stream",
     "text": [
      "well\n"
     ]
    }
   ],
   "source": [
    "j=\"well\"\n",
    "print(j)"
   ]
  },
  {
   "cell_type": "markdown",
   "id": "04bd85a8",
   "metadata": {},
   "source": [
    "Comparison Operator"
   ]
  },
  {
   "cell_type": "code",
   "execution_count": 16,
   "id": "7a7d3a3d",
   "metadata": {},
   "outputs": [
    {
     "data": {
      "text/plain": [
       "True"
      ]
     },
     "execution_count": 16,
     "metadata": {},
     "output_type": "execute_result"
    }
   ],
   "source": [
    "4<9"
   ]
  },
  {
   "cell_type": "code",
   "execution_count": 17,
   "id": "96c55ea9",
   "metadata": {},
   "outputs": [
    {
     "data": {
      "text/plain": [
       "False"
      ]
     },
     "execution_count": 17,
     "metadata": {},
     "output_type": "execute_result"
    }
   ],
   "source": [
    "7>8"
   ]
  },
  {
   "cell_type": "code",
   "execution_count": 57,
   "id": "cf6375ed",
   "metadata": {},
   "outputs": [
    {
     "data": {
      "text/plain": [
       "True"
      ]
     },
     "execution_count": 57,
     "metadata": {},
     "output_type": "execute_result"
    }
   ],
   "source": [
    "5!=6"
   ]
  },
  {
   "cell_type": "code",
   "execution_count": 58,
   "id": "4ea275dc",
   "metadata": {},
   "outputs": [
    {
     "data": {
      "text/plain": [
       "True"
      ]
     },
     "execution_count": 58,
     "metadata": {},
     "output_type": "execute_result"
    }
   ],
   "source": [
    "2==2"
   ]
  },
  {
   "cell_type": "code",
   "execution_count": 59,
   "id": "dd74fad8",
   "metadata": {},
   "outputs": [
    {
     "data": {
      "text/plain": [
       "True"
      ]
     },
     "execution_count": 59,
     "metadata": {},
     "output_type": "execute_result"
    }
   ],
   "source": [
    "3<=5"
   ]
  },
  {
   "cell_type": "code",
   "execution_count": 18,
   "id": "b1e1502d",
   "metadata": {},
   "outputs": [
    {
     "data": {
      "text/plain": [
       "True"
      ]
     },
     "execution_count": 18,
     "metadata": {},
     "output_type": "execute_result"
    }
   ],
   "source": [
    "9>=8"
   ]
  },
  {
   "cell_type": "code",
   "execution_count": 60,
   "id": "cd41ad8e",
   "metadata": {},
   "outputs": [
    {
     "data": {
      "text/plain": [
       "False"
      ]
     },
     "execution_count": 60,
     "metadata": {},
     "output_type": "execute_result"
    }
   ],
   "source": [
    "4<1"
   ]
  },
  {
   "cell_type": "code",
   "execution_count": 61,
   "id": "995bc3b1",
   "metadata": {},
   "outputs": [
    {
     "data": {
      "text/plain": [
       "False"
      ]
     },
     "execution_count": 61,
     "metadata": {},
     "output_type": "execute_result"
    }
   ],
   "source": [
    "5>7"
   ]
  },
  {
   "cell_type": "code",
   "execution_count": 62,
   "id": "be24eb06",
   "metadata": {},
   "outputs": [
    {
     "data": {
      "text/plain": [
       "False"
      ]
     },
     "execution_count": 62,
     "metadata": {},
     "output_type": "execute_result"
    }
   ],
   "source": [
    "3!=3"
   ]
  },
  {
   "cell_type": "code",
   "execution_count": 63,
   "id": "f69a3a62",
   "metadata": {},
   "outputs": [
    {
     "data": {
      "text/plain": [
       "False"
      ]
     },
     "execution_count": 63,
     "metadata": {},
     "output_type": "execute_result"
    }
   ],
   "source": [
    "5==4"
   ]
  },
  {
   "cell_type": "markdown",
   "id": "4eba543a",
   "metadata": {},
   "source": [
    "Membership Operator\n"
   ]
  },
  {
   "cell_type": "code",
   "execution_count": 19,
   "id": "e6f10bd2",
   "metadata": {},
   "outputs": [
    {
     "data": {
      "text/plain": [
       "'hello'"
      ]
     },
     "execution_count": 19,
     "metadata": {},
     "output_type": "execute_result"
    }
   ],
   "source": [
    "\"hello\""
   ]
  },
  {
   "cell_type": "code",
   "execution_count": 20,
   "id": "a2934e4c",
   "metadata": {},
   "outputs": [],
   "source": [
    "o=\"o\""
   ]
  },
  {
   "cell_type": "code",
   "execution_count": 21,
   "id": "509ff51c",
   "metadata": {},
   "outputs": [
    {
     "data": {
      "text/plain": [
       "True"
      ]
     },
     "execution_count": 21,
     "metadata": {},
     "output_type": "execute_result"
    }
   ],
   "source": [
    "o in \"hello\""
   ]
  },
  {
   "cell_type": "code",
   "execution_count": 24,
   "id": "ec8a57aa",
   "metadata": {},
   "outputs": [],
   "source": [
    "l=\"l\""
   ]
  },
  {
   "cell_type": "code",
   "execution_count": 25,
   "id": "d303b952",
   "metadata": {},
   "outputs": [
    {
     "data": {
      "text/plain": [
       "True"
      ]
     },
     "execution_count": 25,
     "metadata": {},
     "output_type": "execute_result"
    }
   ],
   "source": [
    "l in \"hello\""
   ]
  },
  {
   "cell_type": "code",
   "execution_count": 26,
   "id": "c4f6ce3f",
   "metadata": {},
   "outputs": [],
   "source": [
    "h=\"h\""
   ]
  },
  {
   "cell_type": "code",
   "execution_count": 27,
   "id": "38057501",
   "metadata": {},
   "outputs": [
    {
     "data": {
      "text/plain": [
       "True"
      ]
     },
     "execution_count": 27,
     "metadata": {},
     "output_type": "execute_result"
    }
   ],
   "source": [
    "h in \"hello\""
   ]
  },
  {
   "cell_type": "code",
   "execution_count": 28,
   "id": "4b956c24",
   "metadata": {},
   "outputs": [],
   "source": [
    "e=\"e\""
   ]
  },
  {
   "cell_type": "code",
   "execution_count": 29,
   "id": "f1fd55e8",
   "metadata": {},
   "outputs": [
    {
     "data": {
      "text/plain": [
       "True"
      ]
     },
     "execution_count": 29,
     "metadata": {},
     "output_type": "execute_result"
    }
   ],
   "source": [
    "e in \"hello\""
   ]
  },
  {
   "cell_type": "code",
   "execution_count": 30,
   "id": "a6679dd9",
   "metadata": {},
   "outputs": [
    {
     "data": {
      "text/plain": [
       "True"
      ]
     },
     "execution_count": 30,
     "metadata": {},
     "output_type": "execute_result"
    }
   ],
   "source": [
    "l in \"hello\""
   ]
  },
  {
   "cell_type": "code",
   "execution_count": 31,
   "id": "97746f8d",
   "metadata": {},
   "outputs": [],
   "source": [
    "w=\"w\""
   ]
  },
  {
   "cell_type": "code",
   "execution_count": 32,
   "id": "09823ad7",
   "metadata": {},
   "outputs": [
    {
     "data": {
      "text/plain": [
       "False"
      ]
     },
     "execution_count": 32,
     "metadata": {},
     "output_type": "execute_result"
    }
   ],
   "source": [
    "w in \"hello\""
   ]
  },
  {
   "cell_type": "code",
   "execution_count": 33,
   "id": "f8673ca9",
   "metadata": {},
   "outputs": [],
   "source": [
    "p=\"p\""
   ]
  },
  {
   "cell_type": "code",
   "execution_count": 34,
   "id": "ae7267f0",
   "metadata": {},
   "outputs": [
    {
     "data": {
      "text/plain": [
       "False"
      ]
     },
     "execution_count": 34,
     "metadata": {},
     "output_type": "execute_result"
    }
   ],
   "source": [
    "p in \"hello\""
   ]
  },
  {
   "cell_type": "code",
   "execution_count": 35,
   "id": "1cca4bc6",
   "metadata": {},
   "outputs": [],
   "source": [
    "u=\"u\""
   ]
  },
  {
   "cell_type": "code",
   "execution_count": 36,
   "id": "eb069605",
   "metadata": {},
   "outputs": [
    {
     "data": {
      "text/plain": [
       "False"
      ]
     },
     "execution_count": 36,
     "metadata": {},
     "output_type": "execute_result"
    }
   ],
   "source": [
    "u in \"hello\""
   ]
  },
  {
   "cell_type": "code",
   "execution_count": 37,
   "id": "d7decde8",
   "metadata": {},
   "outputs": [],
   "source": [
    "t=\"t\""
   ]
  },
  {
   "cell_type": "code",
   "execution_count": 38,
   "id": "0388558d",
   "metadata": {},
   "outputs": [
    {
     "data": {
      "text/plain": [
       "False"
      ]
     },
     "execution_count": 38,
     "metadata": {},
     "output_type": "execute_result"
    }
   ],
   "source": [
    "t in \"hello\""
   ]
  },
  {
   "cell_type": "code",
   "execution_count": 39,
   "id": "c6430708",
   "metadata": {},
   "outputs": [],
   "source": [
    "f=\"f\""
   ]
  },
  {
   "cell_type": "code",
   "execution_count": 40,
   "id": "3d084e70",
   "metadata": {},
   "outputs": [
    {
     "data": {
      "text/plain": [
       "False"
      ]
     },
     "execution_count": 40,
     "metadata": {},
     "output_type": "execute_result"
    }
   ],
   "source": [
    "f in \"hello\""
   ]
  },
  {
   "cell_type": "code",
   "execution_count": 41,
   "id": "59ba239c",
   "metadata": {},
   "outputs": [],
   "source": [
    "x=\"x\""
   ]
  },
  {
   "cell_type": "code",
   "execution_count": 42,
   "id": "b3a549ea",
   "metadata": {},
   "outputs": [
    {
     "data": {
      "text/plain": [
       "True"
      ]
     },
     "execution_count": 42,
     "metadata": {},
     "output_type": "execute_result"
    }
   ],
   "source": [
    "x not in \"hello\""
   ]
  },
  {
   "cell_type": "code",
   "execution_count": 43,
   "id": "3dc3ad01",
   "metadata": {},
   "outputs": [],
   "source": [
    "y=\"y\""
   ]
  },
  {
   "cell_type": "code",
   "execution_count": 44,
   "id": "6dce09c9",
   "metadata": {},
   "outputs": [
    {
     "data": {
      "text/plain": [
       "True"
      ]
     },
     "execution_count": 44,
     "metadata": {},
     "output_type": "execute_result"
    }
   ],
   "source": [
    "y not in \"hello\""
   ]
  },
  {
   "cell_type": "code",
   "execution_count": 45,
   "id": "cf98900e",
   "metadata": {},
   "outputs": [],
   "source": [
    "z=\"z\""
   ]
  },
  {
   "cell_type": "code",
   "execution_count": 46,
   "id": "265d0baa",
   "metadata": {},
   "outputs": [
    {
     "data": {
      "text/plain": [
       "True"
      ]
     },
     "execution_count": 46,
     "metadata": {},
     "output_type": "execute_result"
    }
   ],
   "source": [
    "z not in \"hello\""
   ]
  },
  {
   "cell_type": "code",
   "execution_count": 47,
   "id": "b2d4df1a",
   "metadata": {},
   "outputs": [],
   "source": [
    "r=\"r\""
   ]
  },
  {
   "cell_type": "code",
   "execution_count": 48,
   "id": "f9dd0dcc",
   "metadata": {},
   "outputs": [
    {
     "data": {
      "text/plain": [
       "True"
      ]
     },
     "execution_count": 48,
     "metadata": {},
     "output_type": "execute_result"
    }
   ],
   "source": [
    "r not in \"hello\""
   ]
  },
  {
   "cell_type": "code",
   "execution_count": 49,
   "id": "31a87d31",
   "metadata": {},
   "outputs": [],
   "source": [
    "k=\"k\""
   ]
  },
  {
   "cell_type": "code",
   "execution_count": 50,
   "id": "9e88f68d",
   "metadata": {},
   "outputs": [
    {
     "data": {
      "text/plain": [
       "True"
      ]
     },
     "execution_count": 50,
     "metadata": {},
     "output_type": "execute_result"
    }
   ],
   "source": [
    "k not in \"hello\""
   ]
  },
  {
   "cell_type": "code",
   "execution_count": 51,
   "id": "3b81fa68",
   "metadata": {},
   "outputs": [
    {
     "data": {
      "text/plain": [
       "False"
      ]
     },
     "execution_count": 51,
     "metadata": {},
     "output_type": "execute_result"
    }
   ],
   "source": [
    "h not in \"hello\""
   ]
  },
  {
   "cell_type": "code",
   "execution_count": 52,
   "id": "ef2b211c",
   "metadata": {},
   "outputs": [
    {
     "data": {
      "text/plain": [
       "False"
      ]
     },
     "execution_count": 52,
     "metadata": {},
     "output_type": "execute_result"
    }
   ],
   "source": [
    "e not in \"hello\""
   ]
  },
  {
   "cell_type": "code",
   "execution_count": 53,
   "id": "61f6b04d",
   "metadata": {},
   "outputs": [
    {
     "data": {
      "text/plain": [
       "False"
      ]
     },
     "execution_count": 53,
     "metadata": {},
     "output_type": "execute_result"
    }
   ],
   "source": [
    "l not in \"hello\""
   ]
  },
  {
   "cell_type": "code",
   "execution_count": 55,
   "id": "0b4c6c6f",
   "metadata": {},
   "outputs": [
    {
     "data": {
      "text/plain": [
       "False"
      ]
     },
     "execution_count": 55,
     "metadata": {},
     "output_type": "execute_result"
    }
   ],
   "source": [
    "l not in \"hello\""
   ]
  },
  {
   "cell_type": "code",
   "execution_count": 56,
   "id": "e2a69b7f",
   "metadata": {},
   "outputs": [
    {
     "data": {
      "text/plain": [
       "False"
      ]
     },
     "execution_count": 56,
     "metadata": {},
     "output_type": "execute_result"
    }
   ],
   "source": [
    "o not in \"hello\""
   ]
  },
  {
   "cell_type": "code",
   "execution_count": null,
   "id": "8cf87f13",
   "metadata": {},
   "outputs": [],
   "source": []
  }
 ],
 "metadata": {
  "kernelspec": {
   "display_name": "Python 3 (ipykernel)",
   "language": "python",
   "name": "python3"
  },
  "language_info": {
   "codemirror_mode": {
    "name": "ipython",
    "version": 3
   },
   "file_extension": ".py",
   "mimetype": "text/x-python",
   "name": "python",
   "nbconvert_exporter": "python",
   "pygments_lexer": "ipython3",
   "version": "3.11.5"
  }
 },
 "nbformat": 4,
 "nbformat_minor": 5
}
