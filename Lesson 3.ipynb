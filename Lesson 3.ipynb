{
 "cells": [
  {
   "cell_type": "markdown",
   "id": "cfa60dae",
   "metadata": {},
   "source": [
    "# Conditional Statements"
   ]
  },
  {
   "cell_type": "code",
   "execution_count": 1,
   "id": "4cbe731b",
   "metadata": {},
   "outputs": [
    {
     "name": "stdout",
     "output_type": "stream",
     "text": [
      "What is your name?Pamela\n",
      "How old are you?18\n",
      "Hello Pamela you are 18 years old and therefore eligible to drive\n"
     ]
    }
   ],
   "source": [
    "#statements used to execute different blocks of code based on whether a statement is true or false(IF,ELSE,ELIF)\n",
    "name = str(input(\"What is your name?\" ))\n",
    "age = int(input(\"How old are you?\" ))\n",
    "if age>=18:\n",
    "    print(f\"Hello {name} you are {age } years old and therefore eligible to drive\")\n",
    "else:\n",
    "    print(f\"Hello {name} you are {age} years old and therefore not eligible to drive\")"
   ]
  },
  {
   "cell_type": "code",
   "execution_count": 2,
   "id": "76cf4735",
   "metadata": {},
   "outputs": [],
   "source": [
    "def nn():\n",
    " name = str(input(\"What is your name?\" ))\n",
    " age = int(input(\"How old are you?\" ))\n",
    " if age>=18 and age <= 30:\n",
    "    print(f\"Hello {name} you are {age } years old and therefore eligible to drive\")\n",
    " elif age>30 and age<60 :\n",
    "    print(f\"Hello {name} you are {age} years old,as such you should be careful when driving\")\n",
    " else:\n",
    "    print(f\"Hello {name} you are {age} years old, as such you are too old to drive\")"
   ]
  },
  {
   "cell_type": "code",
   "execution_count": 3,
   "id": "6af288af",
   "metadata": {},
   "outputs": [
    {
     "name": "stdout",
     "output_type": "stream",
     "text": [
      "What is your name?Pamela\n",
      "How old are you?45\n",
      "Hello Pamela you are 45 years old,as such you should be careful when driving\n"
     ]
    }
   ],
   "source": [
    "nn()"
   ]
  },
  {
   "cell_type": "code",
   "execution_count": 4,
   "id": "5fcb3e2f",
   "metadata": {},
   "outputs": [
    {
     "name": "stdout",
     "output_type": "stream",
     "text": [
      "What is your name?Pamela\n",
      "How old are you?35\n",
      "Hello Pamela you are 35 years old, as such should go for your PHD\n"
     ]
    }
   ],
   "source": [
    "name = str(input(\"What is your name?\" ))\n",
    "age = int(input(\"How old are you?\" ))\n",
    "if age>=0 and age <= 12:\n",
    "     print(f\"Hello {name} you are {age } years old, as such you should be in primary school\")\n",
    "elif age>12 and age<18 :\n",
    "    print(f\"Hello {name} you are {age} years old,as such you should be in high school\")\n",
    "elif age>18 and age <23:\n",
    "    print(f\"Hello {name} you are {age} years old, as such you should be higher education institution\")\n",
    "elif age>=23 and age <30:\n",
    "    children = int(input(\" How many children dou have?\" ))\n",
    "    if children >3:\n",
    "        print(f\"Hello {name} you have {children} children,as such you shouldn't go for masters\")\n",
    "    else:\n",
    "        print(f\"Hello {name} you have {children} children,as such you should go for masters\")\n",
    "else:\n",
    "    print(f\"Hello {name} you are {age} years old, as such should go for your PHD\")"
   ]
  },
  {
   "cell_type": "code",
   "execution_count": 5,
   "id": "a1cb6def",
   "metadata": {},
   "outputs": [
    {
     "name": "stdout",
     "output_type": "stream",
     "text": [
      "How old are you?65\n",
      "Do you have a driver?yes\n",
      "Does he have a license?yes\n",
      "You can drive\n"
     ]
    }
   ],
   "source": [
    "age = int(input(\"How old are you?\" ))\n",
    "if age<=18:\n",
    "    print(\"You are too young to drive\")\n",
    "elif age>18 and age<=25:\n",
    "    print(\"You can drive\")\n",
    "elif age>25 and age <=40:\n",
    "    print(\"Be careful when driving\")\n",
    "elif age>40 and age<=60:\n",
    "    renewed= str(input(\"Did you go to relearn how to drive?\" ))\n",
    "    if renewed == \"yes\":\n",
    "        print(\"You can drive\")\n",
    "    else:\n",
    "        print(\"Go and relearn how to drive\")\n",
    "elif age>60:\n",
    "    driver= str(input(\"Do you have a driver?\" ))\n",
    "    if driver == \"yes\":\n",
    "        licensed= str(input(\"Does he have a license?\" ))\n",
    "        if licensed == \"yes\":\n",
    "            print(\"You can drive\")\n",
    "        else:\n",
    "            print(\"You cannot drive\")\n",
    "    else:\n",
    "        print(\"You cannot drive\")\n",
    "        "
   ]
  },
  {
   "cell_type": "markdown",
   "id": "2f2ec987",
   "metadata": {},
   "source": [
    "<h2> for loop</h2>"
   ]
  },
  {
   "cell_type": "code",
   "execution_count": 6,
   "id": "16c1e148",
   "metadata": {},
   "outputs": [
    {
     "name": "stdout",
     "output_type": "stream",
     "text": [
      "0\n",
      "1\n",
      "2\n",
      "3\n",
      "4\n",
      "5\n",
      "6\n",
      "7\n",
      "8\n",
      "9\n",
      "10\n",
      "11\n",
      "12\n",
      "13\n",
      "14\n",
      "15\n",
      "16\n",
      "17\n",
      "18\n",
      "19\n",
      "20\n",
      "21\n",
      "22\n",
      "23\n",
      "24\n",
      "25\n",
      "26\n",
      "27\n",
      "28\n",
      "29\n",
      "30\n",
      "31\n",
      "32\n",
      "33\n",
      "34\n",
      "35\n",
      "36\n",
      "37\n",
      "38\n",
      "39\n",
      "40\n",
      "41\n",
      "42\n",
      "43\n",
      "44\n",
      "45\n",
      "46\n",
      "47\n",
      "48\n",
      "49\n",
      "50\n",
      "51\n",
      "52\n",
      "53\n",
      "54\n",
      "55\n",
      "56\n",
      "57\n",
      "58\n",
      "59\n",
      "60\n",
      "61\n",
      "62\n",
      "63\n",
      "64\n",
      "65\n",
      "66\n",
      "67\n",
      "68\n",
      "69\n",
      "70\n",
      "71\n",
      "72\n",
      "73\n",
      "74\n",
      "75\n",
      "76\n",
      "77\n",
      "78\n",
      "79\n",
      "80\n",
      "81\n",
      "82\n",
      "83\n",
      "84\n",
      "85\n",
      "86\n",
      "87\n",
      "88\n",
      "89\n",
      "90\n",
      "91\n",
      "92\n",
      "93\n",
      "94\n",
      "95\n",
      "96\n",
      "97\n",
      "98\n",
      "99\n"
     ]
    }
   ],
   "source": [
    "for i in range(100):\n",
    "    print (i)"
   ]
  },
  {
   "cell_type": "code",
   "execution_count": 7,
   "id": "8461711b",
   "metadata": {},
   "outputs": [
    {
     "name": "stdout",
     "output_type": "stream",
     "text": [
      "0\n",
      "2\n",
      "4\n",
      "6\n",
      "8\n",
      "10\n",
      "12\n",
      "14\n",
      "16\n",
      "18\n",
      "20\n",
      "22\n",
      "24\n",
      "26\n",
      "28\n",
      "30\n",
      "32\n",
      "34\n",
      "36\n",
      "38\n",
      "40\n",
      "42\n",
      "44\n",
      "46\n",
      "48\n",
      "50\n",
      "52\n",
      "54\n",
      "56\n",
      "58\n",
      "60\n",
      "62\n",
      "64\n",
      "66\n",
      "68\n",
      "70\n",
      "72\n",
      "74\n",
      "76\n",
      "78\n",
      "80\n",
      "82\n",
      "84\n",
      "86\n",
      "88\n",
      "90\n",
      "92\n",
      "94\n",
      "96\n",
      "98\n",
      "100\n"
     ]
    }
   ],
   "source": [
    "for i in range (101):\n",
    "    if i%2==0:\n",
    "        print(i)"
   ]
  },
  {
   "cell_type": "code",
   "execution_count": 8,
   "id": "c558274c",
   "metadata": {},
   "outputs": [],
   "source": [
    "f = [i for i in range(0,100,2)]"
   ]
  },
  {
   "cell_type": "code",
   "execution_count": 9,
   "id": "7fcf026e",
   "metadata": {},
   "outputs": [
    {
     "data": {
      "text/plain": [
       "[0,\n",
       " 2,\n",
       " 4,\n",
       " 6,\n",
       " 8,\n",
       " 10,\n",
       " 12,\n",
       " 14,\n",
       " 16,\n",
       " 18,\n",
       " 20,\n",
       " 22,\n",
       " 24,\n",
       " 26,\n",
       " 28,\n",
       " 30,\n",
       " 32,\n",
       " 34,\n",
       " 36,\n",
       " 38,\n",
       " 40,\n",
       " 42,\n",
       " 44,\n",
       " 46,\n",
       " 48,\n",
       " 50,\n",
       " 52,\n",
       " 54,\n",
       " 56,\n",
       " 58,\n",
       " 60,\n",
       " 62,\n",
       " 64,\n",
       " 66,\n",
       " 68,\n",
       " 70,\n",
       " 72,\n",
       " 74,\n",
       " 76,\n",
       " 78,\n",
       " 80,\n",
       " 82,\n",
       " 84,\n",
       " 86,\n",
       " 88,\n",
       " 90,\n",
       " 92,\n",
       " 94,\n",
       " 96,\n",
       " 98]"
      ]
     },
     "execution_count": 9,
     "metadata": {},
     "output_type": "execute_result"
    }
   ],
   "source": [
    "f"
   ]
  },
  {
   "cell_type": "code",
   "execution_count": 10,
   "id": "8018cb12",
   "metadata": {},
   "outputs": [
    {
     "data": {
      "text/plain": [
       "[0, 2, 4, 6, 8, 10, 12, 14, 16, 18, 20, 22, 24, 26, 28, 30, 32, 34, 36, 38]"
      ]
     },
     "execution_count": 10,
     "metadata": {},
     "output_type": "execute_result"
    }
   ],
   "source": [
    "f= [i for i in range(0,40,2)]\n",
    "f"
   ]
  },
  {
   "cell_type": "code",
   "execution_count": 11,
   "id": "ba9b28d3",
   "metadata": {},
   "outputs": [],
   "source": [
    "d= []\n",
    "for i in f:\n",
    "    if i<=20:\n",
    "        d.append(i)"
   ]
  },
  {
   "cell_type": "code",
   "execution_count": 12,
   "id": "8071b9d1",
   "metadata": {},
   "outputs": [
    {
     "data": {
      "text/plain": [
       "[0, 2, 4, 6, 8, 10, 12, 14, 16, 18, 20]"
      ]
     },
     "execution_count": 12,
     "metadata": {},
     "output_type": "execute_result"
    }
   ],
   "source": [
    "d"
   ]
  },
  {
   "cell_type": "code",
   "execution_count": 13,
   "id": "0751b2dc",
   "metadata": {},
   "outputs": [
    {
     "name": "stdout",
     "output_type": "stream",
     "text": [
      "0\n",
      "2\n",
      "4\n",
      "6\n",
      "8\n",
      "10\n",
      "12\n",
      "14\n",
      "16\n",
      "18\n"
     ]
    }
   ],
   "source": [
    "for i in f:\n",
    "    if i==20:\n",
    "        break\n",
    "    print(i)"
   ]
  },
  {
   "cell_type": "code",
   "execution_count": 14,
   "id": "ffcba183",
   "metadata": {},
   "outputs": [
    {
     "name": "stdout",
     "output_type": "stream",
     "text": [
      "0\n",
      "2\n",
      "4\n",
      "6\n",
      "8\n",
      "10\n",
      "12\n",
      "14\n",
      "16\n",
      "18\n",
      "22\n",
      "24\n",
      "26\n",
      "28\n",
      "30\n",
      "32\n",
      "34\n",
      "36\n",
      "38\n"
     ]
    }
   ],
   "source": [
    "for i in f:\n",
    "    if i==20:\n",
    "        continue\n",
    "    print(i)"
   ]
  },
  {
   "cell_type": "code",
   "execution_count": 15,
   "id": "78d86b2d",
   "metadata": {},
   "outputs": [
    {
     "name": "stdout",
     "output_type": "stream",
     "text": [
      "[0, 2, 4, 6, 8, 10, 12, 14, 16, 18]\n"
     ]
    }
   ],
   "source": [
    "g=[]\n",
    "for i in f:\n",
    "    if i==20:\n",
    "        break\n",
    "    g.append(i)\n",
    "print(g)    "
   ]
  },
  {
   "cell_type": "code",
   "execution_count": 16,
   "id": "60eefd56",
   "metadata": {},
   "outputs": [
    {
     "name": "stdout",
     "output_type": "stream",
     "text": [
      "0\n",
      "2\n",
      "4\n",
      "6\n",
      "8\n",
      "10\n",
      "12\n",
      "14\n",
      "16\n",
      "18\n",
      "22\n",
      "24\n",
      "26\n",
      "28\n",
      "30\n",
      "32\n",
      "34\n",
      "36\n",
      "38\n"
     ]
    }
   ],
   "source": [
    "for i in f:\n",
    "    if i == 20:\n",
    "        continue\n",
    "    print(i)"
   ]
  },
  {
   "cell_type": "code",
   "execution_count": 17,
   "id": "4a7aef68",
   "metadata": {},
   "outputs": [
    {
     "name": "stdout",
     "output_type": "stream",
     "text": [
      "2\n",
      "4\n",
      "6\n",
      "8\n",
      "10\n",
      "12\n",
      "14\n",
      "16\n",
      "18\n",
      "20\n",
      "22\n",
      "24\n",
      "26\n",
      "28\n",
      "30\n",
      "32\n",
      "34\n",
      "36\n",
      "38\n",
      "40\n"
     ]
    }
   ],
   "source": [
    "for x in f:\n",
    "    if x%2 == 0:\n",
    "        y= x+2\n",
    "        print(y)"
   ]
  },
  {
   "cell_type": "code",
   "execution_count": 18,
   "id": "8479e6e8",
   "metadata": {},
   "outputs": [
    {
     "data": {
      "text/plain": [
       "[0, 1, 2, 3, 4, 5, 6, 7, 8, 9]"
      ]
     },
     "execution_count": 18,
     "metadata": {},
     "output_type": "execute_result"
    }
   ],
   "source": [
    "f = [i for i in range(10)]\n",
    "f"
   ]
  },
  {
   "cell_type": "markdown",
   "id": "f7a34308",
   "metadata": {},
   "source": [
    "While Loop"
   ]
  },
  {
   "cell_type": "code",
   "execution_count": 19,
   "id": "a2eb4cf5",
   "metadata": {},
   "outputs": [
    {
     "name": "stdout",
     "output_type": "stream",
     "text": [
      "0\n",
      "2\n",
      "4\n",
      "6\n",
      "8\n",
      "10\n",
      "12\n",
      "14\n",
      "16\n",
      "18\n",
      "20\n"
     ]
    }
   ],
   "source": [
    "i = 0\n",
    "while i<21:\n",
    "    print(i)\n",
    "    i = i+2"
   ]
  },
  {
   "cell_type": "code",
   "execution_count": 20,
   "id": "cc53f2d7",
   "metadata": {},
   "outputs": [
    {
     "name": "stdout",
     "output_type": "stream",
     "text": [
      "0\n",
      "2\n",
      "4\n",
      "6\n",
      "8\n",
      "10\n",
      "12\n",
      "14\n",
      "16\n",
      "18\n",
      "20\n"
     ]
    }
   ],
   "source": [
    "i = 0\n",
    "while i<21:\n",
    "    if i%2 == 0:\n",
    "        print(i)\n",
    "    i = i+1\n",
    "    \n",
    "    "
   ]
  },
  {
   "cell_type": "code",
   "execution_count": 21,
   "id": "f488dcf5",
   "metadata": {},
   "outputs": [
    {
     "name": "stdout",
     "output_type": "stream",
     "text": [
      "What is your name?Pamela\n",
      "How old are you?25\n",
      "Hello Pamela you are 25 years old and therefore eligible to drive\n"
     ]
    }
   ],
   "source": [
    "nn()"
   ]
  },
  {
   "cell_type": "code",
   "execution_count": 22,
   "id": "b5045103",
   "metadata": {},
   "outputs": [],
   "source": [
    "def add():\n",
    "    x = 9\n",
    "    y = 10\n",
    "    result = x+y\n",
    "    return result"
   ]
  },
  {
   "cell_type": "code",
   "execution_count": 23,
   "id": "41fc43d1",
   "metadata": {},
   "outputs": [
    {
     "data": {
      "text/plain": [
       "19"
      ]
     },
     "execution_count": 23,
     "metadata": {},
     "output_type": "execute_result"
    }
   ],
   "source": [
    "add()"
   ]
  },
  {
   "cell_type": "code",
   "execution_count": 24,
   "id": "1cdad6fc",
   "metadata": {},
   "outputs": [],
   "source": [
    "def dd(x,y):\n",
    "    return(x+y)\n",
    "    "
   ]
  },
  {
   "cell_type": "code",
   "execution_count": 25,
   "id": "2e6a19ad",
   "metadata": {},
   "outputs": [
    {
     "data": {
      "text/plain": [
       "15"
      ]
     },
     "execution_count": 25,
     "metadata": {},
     "output_type": "execute_result"
    }
   ],
   "source": [
    "dd(5,10)"
   ]
  },
  {
   "cell_type": "code",
   "execution_count": 26,
   "id": "f390231b",
   "metadata": {},
   "outputs": [
    {
     "data": {
      "text/plain": [
       "95"
      ]
     },
     "execution_count": 26,
     "metadata": {},
     "output_type": "execute_result"
    }
   ],
   "source": [
    "dd(20,75)"
   ]
  },
  {
   "cell_type": "code",
   "execution_count": 27,
   "id": "5e9b7a6d",
   "metadata": {},
   "outputs": [],
   "source": [
    "def area(r,pi=3.142):\n",
    "    print(f\"The area of the circle is {pi*r**2}\")"
   ]
  },
  {
   "cell_type": "code",
   "execution_count": 28,
   "id": "07efcfd5",
   "metadata": {},
   "outputs": [
    {
     "name": "stdout",
     "output_type": "stream",
     "text": [
      "The area of the circle is 12.568\n"
     ]
    }
   ],
   "source": [
    "area(2)"
   ]
  },
  {
   "cell_type": "code",
   "execution_count": 29,
   "id": "47145148",
   "metadata": {},
   "outputs": [
    {
     "name": "stdout",
     "output_type": "stream",
     "text": [
      "The area of the circle is 100.0\n"
     ]
    }
   ],
   "source": [
    "area(5,4.0)"
   ]
  },
  {
   "cell_type": "code",
   "execution_count": 5,
   "id": "dfd5e5bc",
   "metadata": {},
   "outputs": [],
   "source": [
    "def database():\n",
    "    global account\n",
    "    print(\"Hello welcome to SkilHarvest, kindly create an account\")\n",
    "    account = dict()\n",
    "    username = str(input(\"Please enter your preffered username \" ))\n",
    "    password = str(input(\"Enter your password \"  ))\n",
    "    account[username]= password\n",
    "    return account"
   ]
  },
  {
   "cell_type": "code",
   "execution_count": 6,
   "id": "057bf201",
   "metadata": {},
   "outputs": [
    {
     "name": "stdout",
     "output_type": "stream",
     "text": [
      "Hello welcome to SkilHarvest, kindly create an account\n",
      "Please enter your preffered username Pamela\n",
      "Enter your password vimbai\n"
     ]
    }
   ],
   "source": [
    "d = database()"
   ]
  },
  {
   "cell_type": "code",
   "execution_count": 7,
   "id": "736def3e",
   "metadata": {},
   "outputs": [
    {
     "data": {
      "text/plain": [
       "{'Pamela': 'vimbai'}"
      ]
     },
     "execution_count": 7,
     "metadata": {},
     "output_type": "execute_result"
    }
   ],
   "source": [
    "d"
   ]
  },
  {
   "cell_type": "code",
   "execution_count": 8,
   "id": "b9f003e4",
   "metadata": {},
   "outputs": [],
   "source": [
    "def database():\n",
    "    global account\n",
    "    print(\"Hello welcome to SkilHarvest, kindly create an account\")\n",
    "    account = dict()\n",
    "    username = str(input(\"Please enter your preffered username \" ))\n",
    "    password = str(input(\"Enter your password \"  ))\n",
    "    account[username]= password\n",
    "    return account\n",
    "def login():\n",
    "    account = database()\n",
    "    name = str(input(\"What is your name?\" ))\n",
    "    print(f\"Hello {name} kindly enter your username and password\")\n",
    "    username = str(input(\"UserName\"))\n",
    "    password = str(input(\"Password\"))\n",
    "    if username in account.keys() and password == account[username]:\n",
    "         print (\"Login successful\")\n",
    "    else:\n",
    "        print(\"Invalid credentials\")\n",
    "def decision():        \n",
    " name = str(input(\"What is your name?\" ))\n",
    " age = int(input(\"How old are you?\" ))\n",
    " if age>=0 and age <= 12:\n",
    "     print(f\"Hello {name} you are {age } years old, as such you should be in primary school\")\n",
    " elif age>12 and age<18 :\n",
    "    print(f\"Hello {name} you are {age} years old,as such you should be in high school\")\n",
    " elif age>18 and age <23:\n",
    "    print(f\"Hello {name} you are {age} years old, as such you should be higher education institution\")\n",
    " elif age>=23 and age <30:\n",
    "    children = int(input(\" How many children dou have?\" ))\n",
    "    if children >3:\n",
    "        print(f\"Hello {name} you have {children} children,as such you shouldn't go for masters\")\n",
    "    else:\n",
    "        print(f\"Hello {name} you have {children} children,as such you should go for masters\")\n",
    " else:\n",
    "    print(f\"Hello {name} you are {age} years old, as such should go for your PHD\")"
   ]
  },
  {
   "cell_type": "code",
   "execution_count": 9,
   "id": "cea056aa",
   "metadata": {},
   "outputs": [
    {
     "name": "stdout",
     "output_type": "stream",
     "text": [
      "Hello welcome to SkilHarvest, kindly create an account\n",
      "Please enter your preffered username Pamela\n",
      "Enter your password vimbai\n"
     ]
    },
    {
     "data": {
      "text/plain": [
       "{'Pamela': 'vimbai'}"
      ]
     },
     "execution_count": 9,
     "metadata": {},
     "output_type": "execute_result"
    }
   ],
   "source": [
    "database()"
   ]
  },
  {
   "cell_type": "code",
   "execution_count": null,
   "id": "2722acaa",
   "metadata": {},
   "outputs": [
    {
     "name": "stdout",
     "output_type": "stream",
     "text": [
      "Hello welcome this simple program \n",
      " enter 1) To create an account \n",
      " enter 2) To check for login access \n",
      " enter 3) For fun games \n",
      "2\n",
      "Hello welcome to SkilHarvest, kindly create an account\n"
     ]
    }
   ],
   "source": [
    "print(\"Hello welcome this simple program \\n enter 1) To create an account \\n enter 2) To check for login access \\n enter 3) For fun games \")\n",
    "answer = int(input())\n",
    "if answer == 1:\n",
    "    account = database()\n",
    "elif answer ==2:\n",
    "    login()\n",
    "else:\n",
    "    decision()"
   ]
  },
  {
   "cell_type": "code",
   "execution_count": null,
   "id": "bf98f2d8",
   "metadata": {},
   "outputs": [],
   "source": []
  }
 ],
 "metadata": {
  "kernelspec": {
   "display_name": "Python 3 (ipykernel)",
   "language": "python",
   "name": "python3"
  },
  "language_info": {
   "codemirror_mode": {
    "name": "ipython",
    "version": 3
   },
   "file_extension": ".py",
   "mimetype": "text/x-python",
   "name": "python",
   "nbconvert_exporter": "python",
   "pygments_lexer": "ipython3",
   "version": "3.11.5"
  }
 },
 "nbformat": 4,
 "nbformat_minor": 5
}
