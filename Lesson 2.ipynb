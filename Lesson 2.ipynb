{
 "cells": [
  {
   "cell_type": "markdown",
   "id": "07a17287",
   "metadata": {},
   "source": [
    "# Data Structures"
   ]
  },
  {
   "cell_type": "markdown",
   "id": "23a05e2b",
   "metadata": {},
   "source": [
    "List"
   ]
  },
  {
   "cell_type": "code",
   "execution_count": 1,
   "id": "2cb40232",
   "metadata": {},
   "outputs": [
    {
     "data": {
      "text/plain": [
       "list"
      ]
     },
     "execution_count": 1,
     "metadata": {},
     "output_type": "execute_result"
    }
   ],
   "source": [
    "type([])"
   ]
  },
  {
   "cell_type": "code",
   "execution_count": 5,
   "id": "bbaacc28",
   "metadata": {},
   "outputs": [],
   "source": [
    "fruit = [\"Apple\",\"Banana\",\"Grapes\"]#list is assigned to a variable fruit"
   ]
  },
  {
   "cell_type": "code",
   "execution_count": 6,
   "id": "6c403586",
   "metadata": {},
   "outputs": [
    {
     "data": {
      "text/plain": [
       "['Apple', 'Banana', 'Grapes']"
      ]
     },
     "execution_count": 6,
     "metadata": {},
     "output_type": "execute_result"
    }
   ],
   "source": [
    "fruit"
   ]
  },
  {
   "cell_type": "code",
   "execution_count": 7,
   "id": "c3007102",
   "metadata": {},
   "outputs": [],
   "source": [
    "fruit.append(\"Cherry\")# adding another item to the end of a list"
   ]
  },
  {
   "cell_type": "code",
   "execution_count": 8,
   "id": "a3b30a06",
   "metadata": {},
   "outputs": [
    {
     "data": {
      "text/plain": [
       "['Apple', 'Banana', 'Grapes', 'Cherry']"
      ]
     },
     "execution_count": 8,
     "metadata": {},
     "output_type": "execute_result"
    }
   ],
   "source": [
    "fruit"
   ]
  },
  {
   "cell_type": "code",
   "execution_count": 9,
   "id": "59e6e028",
   "metadata": {},
   "outputs": [],
   "source": [
    "fruit.insert(0,\"Mangoe\")# to choose the index you want to add a new item to"
   ]
  },
  {
   "cell_type": "code",
   "execution_count": 11,
   "id": "ab02d9c6",
   "metadata": {},
   "outputs": [
    {
     "data": {
      "text/plain": [
       "['Mangoe', 'Apple', 'Banana', 'Grapes', 'Cherry']"
      ]
     },
     "execution_count": 11,
     "metadata": {},
     "output_type": "execute_result"
    }
   ],
   "source": [
    "fruit"
   ]
  },
  {
   "cell_type": "code",
   "execution_count": 12,
   "id": "9ecdafe5",
   "metadata": {},
   "outputs": [
    {
     "data": {
      "text/plain": [
       "'Mangoe'"
      ]
     },
     "execution_count": 12,
     "metadata": {},
     "output_type": "execute_result"
    }
   ],
   "source": [
    "fruit[0]"
   ]
  },
  {
   "cell_type": "code",
   "execution_count": 13,
   "id": "fe5874f3",
   "metadata": {},
   "outputs": [
    {
     "data": {
      "text/plain": [
       "'Cherry'"
      ]
     },
     "execution_count": 13,
     "metadata": {},
     "output_type": "execute_result"
    }
   ],
   "source": [
    "fruit[-1]#output value in the listed index"
   ]
  },
  {
   "cell_type": "code",
   "execution_count": 14,
   "id": "98cf6bd1",
   "metadata": {},
   "outputs": [],
   "source": [
    "fruit[-2]= \"Cashew\"# assign value to this index"
   ]
  },
  {
   "cell_type": "code",
   "execution_count": 15,
   "id": "3601d560",
   "metadata": {},
   "outputs": [
    {
     "data": {
      "text/plain": [
       "['Mangoe', 'Apple', 'Banana', 'Cashew', 'Cherry']"
      ]
     },
     "execution_count": 15,
     "metadata": {},
     "output_type": "execute_result"
    }
   ],
   "source": [
    "fruit"
   ]
  },
  {
   "cell_type": "code",
   "execution_count": 16,
   "id": "52e38f15",
   "metadata": {},
   "outputs": [],
   "source": [
    "fruit[:-2]= [\"Orange\",\"Pear\"]#add items to the list starting on the index after the one you listed"
   ]
  },
  {
   "cell_type": "code",
   "execution_count": 17,
   "id": "af867b97",
   "metadata": {},
   "outputs": [
    {
     "data": {
      "text/plain": [
       "['Orange', 'Pear', 'Cashew', 'Cherry']"
      ]
     },
     "execution_count": 17,
     "metadata": {},
     "output_type": "execute_result"
    }
   ],
   "source": [
    "fruit"
   ]
  },
  {
   "cell_type": "code",
   "execution_count": 18,
   "id": "1e81d098",
   "metadata": {},
   "outputs": [],
   "source": [
    "fruit.extend([\"Paw Paw\",\"Watermelon\"])#for adding more than one item to a list"
   ]
  },
  {
   "cell_type": "code",
   "execution_count": 19,
   "id": "670b797e",
   "metadata": {},
   "outputs": [
    {
     "data": {
      "text/plain": [
       "['Orange', 'Pear', 'Cashew', 'Cherry', 'Paw Paw', 'Watermelon']"
      ]
     },
     "execution_count": 19,
     "metadata": {},
     "output_type": "execute_result"
    }
   ],
   "source": [
    "fruit"
   ]
  },
  {
   "cell_type": "code",
   "execution_count": 20,
   "id": "7a24a57a",
   "metadata": {},
   "outputs": [
    {
     "data": {
      "text/plain": [
       "['Cashew', 'Cherry', 'Paw Paw', 'Watermelon']"
      ]
     },
     "execution_count": 20,
     "metadata": {},
     "output_type": "execute_result"
    }
   ],
   "source": [
    "fruit[2:]#you print the list starting from given index going forward"
   ]
  },
  {
   "cell_type": "code",
   "execution_count": 21,
   "id": "552195e1",
   "metadata": {},
   "outputs": [
    {
     "data": {
      "text/plain": [
       "'Watermelon'"
      ]
     },
     "execution_count": 21,
     "metadata": {},
     "output_type": "execute_result"
    }
   ],
   "source": [
    "fruit.pop()#to remove the last item on the list"
   ]
  },
  {
   "cell_type": "code",
   "execution_count": 22,
   "id": "6960beb4",
   "metadata": {},
   "outputs": [
    {
     "data": {
      "text/plain": [
       "['Orange', 'Pear', 'Cashew', 'Cherry', 'Paw Paw']"
      ]
     },
     "execution_count": 22,
     "metadata": {},
     "output_type": "execute_result"
    }
   ],
   "source": [
    "fruit"
   ]
  },
  {
   "cell_type": "code",
   "execution_count": 23,
   "id": "c4d030b2",
   "metadata": {},
   "outputs": [],
   "source": [
    "fruit.remove(\"Pear\")#to choose what you want to remove"
   ]
  },
  {
   "cell_type": "code",
   "execution_count": 24,
   "id": "23e8caf5",
   "metadata": {},
   "outputs": [
    {
     "data": {
      "text/plain": [
       "['Orange', 'Cashew', 'Cherry', 'Paw Paw']"
      ]
     },
     "execution_count": 24,
     "metadata": {},
     "output_type": "execute_result"
    }
   ],
   "source": [
    "fruit"
   ]
  },
  {
   "cell_type": "code",
   "execution_count": null,
   "id": "170fced5",
   "metadata": {},
   "outputs": [],
   "source": [
    "#fruit.clear() for clearing everything"
   ]
  },
  {
   "cell_type": "code",
   "execution_count": 25,
   "id": "5ffdd06f",
   "metadata": {},
   "outputs": [],
   "source": [
    "fruit.reverse()#to reverse the list"
   ]
  },
  {
   "cell_type": "code",
   "execution_count": 26,
   "id": "c2752f30",
   "metadata": {},
   "outputs": [
    {
     "data": {
      "text/plain": [
       "['Paw Paw', 'Cherry', 'Cashew', 'Orange']"
      ]
     },
     "execution_count": 26,
     "metadata": {},
     "output_type": "execute_result"
    }
   ],
   "source": [
    "fruit"
   ]
  },
  {
   "cell_type": "code",
   "execution_count": 27,
   "id": "a3fcee10",
   "metadata": {},
   "outputs": [],
   "source": [
    "d= fruit.copy()"
   ]
  },
  {
   "cell_type": "code",
   "execution_count": 28,
   "id": "9372b019",
   "metadata": {},
   "outputs": [
    {
     "data": {
      "text/plain": [
       "['Paw Paw', 'Cherry', 'Cashew', 'Orange']"
      ]
     },
     "execution_count": 28,
     "metadata": {},
     "output_type": "execute_result"
    }
   ],
   "source": [
    "d#the copy is stored in a variable"
   ]
  },
  {
   "cell_type": "code",
   "execution_count": 29,
   "id": "e41b2c99",
   "metadata": {},
   "outputs": [
    {
     "data": {
      "text/plain": [
       "['Paw Paw', 'Cherry', 'Cashew', 'Orange']"
      ]
     },
     "execution_count": 29,
     "metadata": {},
     "output_type": "execute_result"
    }
   ],
   "source": [
    "fruit#the original list"
   ]
  },
  {
   "cell_type": "code",
   "execution_count": 30,
   "id": "9f6d7c47",
   "metadata": {},
   "outputs": [],
   "source": [
    "fruit.sort()"
   ]
  },
  {
   "cell_type": "code",
   "execution_count": 31,
   "id": "05b33d01",
   "metadata": {},
   "outputs": [
    {
     "data": {
      "text/plain": [
       "['Cashew', 'Cherry', 'Orange', 'Paw Paw']"
      ]
     },
     "execution_count": 31,
     "metadata": {},
     "output_type": "execute_result"
    }
   ],
   "source": [
    "fruit"
   ]
  },
  {
   "cell_type": "code",
   "execution_count": 1,
   "id": "3a562739",
   "metadata": {},
   "outputs": [],
   "source": [
    " d= [[\"orange\",\"mango\",\"banana\"],[\"a\",\"b\",\"c\",\"d\"],[23,34,5,6,7,8]]"
   ]
  },
  {
   "cell_type": "code",
   "execution_count": 2,
   "id": "f1b79235",
   "metadata": {},
   "outputs": [
    {
     "data": {
      "text/plain": [
       "[['orange', 'mango', 'banana'], ['a', 'b', 'c', 'd'], [23, 34, 5, 6, 7, 8]]"
      ]
     },
     "execution_count": 2,
     "metadata": {},
     "output_type": "execute_result"
    }
   ],
   "source": [
    "d"
   ]
  },
  {
   "cell_type": "code",
   "execution_count": 3,
   "id": "975908a7",
   "metadata": {},
   "outputs": [
    {
     "data": {
      "text/plain": [
       "['orange', 'mango', 'banana']"
      ]
     },
     "execution_count": 3,
     "metadata": {},
     "output_type": "execute_result"
    }
   ],
   "source": [
    "d[0]"
   ]
  },
  {
   "cell_type": "code",
   "execution_count": 4,
   "id": "854356ff",
   "metadata": {},
   "outputs": [
    {
     "data": {
      "text/plain": [
       "'banana'"
      ]
     },
     "execution_count": 4,
     "metadata": {},
     "output_type": "execute_result"
    }
   ],
   "source": [
    "d[0][2]"
   ]
  },
  {
   "cell_type": "code",
   "execution_count": 5,
   "id": "2979213b",
   "metadata": {},
   "outputs": [
    {
     "data": {
      "text/plain": [
       "'d'"
      ]
     },
     "execution_count": 5,
     "metadata": {},
     "output_type": "execute_result"
    }
   ],
   "source": [
    "d[1][3]"
   ]
  },
  {
   "cell_type": "markdown",
   "id": "a81c58c5",
   "metadata": {},
   "source": [
    "Tuple"
   ]
  },
  {
   "cell_type": "code",
   "execution_count": 9,
   "id": "7c0bdc04",
   "metadata": {},
   "outputs": [],
   "source": [
    "#This is for data sets we do not want to change, we use a parenthesis() to indicate a tuple\n",
    "d = (\"a\",\"b\",\"c\",\"c\",\"c\",\"d\")"
   ]
  },
  {
   "cell_type": "code",
   "execution_count": 10,
   "id": "d791a7c8",
   "metadata": {},
   "outputs": [
    {
     "data": {
      "text/plain": [
       "tuple"
      ]
     },
     "execution_count": 10,
     "metadata": {},
     "output_type": "execute_result"
    }
   ],
   "source": [
    "type(d)"
   ]
  },
  {
   "cell_type": "code",
   "execution_count": 11,
   "id": "1dfca0a0",
   "metadata": {},
   "outputs": [
    {
     "data": {
      "text/plain": [
       "1"
      ]
     },
     "execution_count": 11,
     "metadata": {},
     "output_type": "execute_result"
    }
   ],
   "source": [
    "d.count(\"d\")"
   ]
  },
  {
   "cell_type": "code",
   "execution_count": 12,
   "id": "fa20bbc9",
   "metadata": {},
   "outputs": [
    {
     "data": {
      "text/plain": [
       "3"
      ]
     },
     "execution_count": 12,
     "metadata": {},
     "output_type": "execute_result"
    }
   ],
   "source": [
    "d.count(\"c\")"
   ]
  },
  {
   "cell_type": "code",
   "execution_count": 14,
   "id": "2a3869e4",
   "metadata": {},
   "outputs": [
    {
     "data": {
      "text/plain": [
       "4"
      ]
     },
     "execution_count": 14,
     "metadata": {},
     "output_type": "execute_result"
    }
   ],
   "source": [
    "d.index(\"c\",4)#in the case of repeated list you use the number to show where to start counting in order to get the index number"
   ]
  },
  {
   "cell_type": "markdown",
   "id": "2e2a86ab",
   "metadata": {},
   "source": [
    "Set"
   ]
  },
  {
   "cell_type": "code",
   "execution_count": 15,
   "id": "c11f5d3e",
   "metadata": {},
   "outputs": [],
   "source": [
    "#It can be modified, does not take duplicate items if you repeat items they are merged and is represented using {}\n",
    "d = {\"a\",\"a\",\"a\",\"c\",\"d\",\"c\"}"
   ]
  },
  {
   "cell_type": "code",
   "execution_count": 16,
   "id": "9ed9a9d7",
   "metadata": {},
   "outputs": [
    {
     "data": {
      "text/plain": [
       "{'a', 'c', 'd'}"
      ]
     },
     "execution_count": 16,
     "metadata": {},
     "output_type": "execute_result"
    }
   ],
   "source": [
    "d"
   ]
  },
  {
   "cell_type": "code",
   "execution_count": 17,
   "id": "224eca3c",
   "metadata": {},
   "outputs": [],
   "source": [
    "d.add(\"f\")"
   ]
  },
  {
   "cell_type": "code",
   "execution_count": 18,
   "id": "2527b1c3",
   "metadata": {},
   "outputs": [
    {
     "data": {
      "text/plain": [
       "{'a', 'c', 'd', 'f'}"
      ]
     },
     "execution_count": 18,
     "metadata": {},
     "output_type": "execute_result"
    }
   ],
   "source": [
    "d"
   ]
  },
  {
   "cell_type": "code",
   "execution_count": null,
   "id": "4a325cb9",
   "metadata": {},
   "outputs": [],
   "source": [
    "#d.clear()"
   ]
  },
  {
   "cell_type": "code",
   "execution_count": 19,
   "id": "d28a1842",
   "metadata": {},
   "outputs": [],
   "source": [
    "c = {1,3,6,9}\n",
    "\n",
    "d.update(c)"
   ]
  },
  {
   "cell_type": "code",
   "execution_count": 20,
   "id": "ab72f93d",
   "metadata": {},
   "outputs": [
    {
     "data": {
      "text/plain": [
       "{1, 3, 6, 9, 'a', 'c', 'd', 'f'}"
      ]
     },
     "execution_count": 20,
     "metadata": {},
     "output_type": "execute_result"
    }
   ],
   "source": [
    "d"
   ]
  },
  {
   "cell_type": "code",
   "execution_count": 21,
   "id": "b24e5502",
   "metadata": {},
   "outputs": [],
   "source": [
    "a = {1,2,3,4,5}\n",
    "b = {3,2,1,3,4}"
   ]
  },
  {
   "cell_type": "code",
   "execution_count": 22,
   "id": "fcc4f776",
   "metadata": {},
   "outputs": [
    {
     "data": {
      "text/plain": [
       "{1, 2, 3, 4, 5}"
      ]
     },
     "execution_count": 22,
     "metadata": {},
     "output_type": "execute_result"
    }
   ],
   "source": [
    "a.union(b)"
   ]
  },
  {
   "cell_type": "code",
   "execution_count": 23,
   "id": "387e0328",
   "metadata": {},
   "outputs": [
    {
     "data": {
      "text/plain": [
       "5"
      ]
     },
     "execution_count": 23,
     "metadata": {},
     "output_type": "execute_result"
    }
   ],
   "source": [
    "len(a)"
   ]
  },
  {
   "cell_type": "code",
   "execution_count": 24,
   "id": "26181336",
   "metadata": {},
   "outputs": [
    {
     "data": {
      "text/plain": [
       "{1, 2, 3, 4}"
      ]
     },
     "execution_count": 24,
     "metadata": {},
     "output_type": "execute_result"
    }
   ],
   "source": [
    "a.intersection(b)"
   ]
  },
  {
   "cell_type": "code",
   "execution_count": null,
   "id": "e51e0a57",
   "metadata": {},
   "outputs": [],
   "source": [
    "#a.intersection_update(b) changes a to the new set of intersected items"
   ]
  },
  {
   "cell_type": "markdown",
   "id": "72e3c98a",
   "metadata": {},
   "source": [
    "Dictionary"
   ]
  },
  {
   "cell_type": "code",
   "execution_count": 25,
   "id": "6192e2c7",
   "metadata": {},
   "outputs": [],
   "source": [
    "bio = {\"Name\":\"Pamela\",\"School\":\"SkilHarvest\",\"Age\":20,\"Sex\":\"Female\"}"
   ]
  },
  {
   "cell_type": "code",
   "execution_count": 26,
   "id": "bf49caf0",
   "metadata": {},
   "outputs": [
    {
     "data": {
      "text/plain": [
       "{'Name': 'Pamela', 'School': 'SkilHarvest', 'Age': 20, 'Sex': 'Female'}"
      ]
     },
     "execution_count": 26,
     "metadata": {},
     "output_type": "execute_result"
    }
   ],
   "source": [
    "bio"
   ]
  },
  {
   "cell_type": "code",
   "execution_count": 27,
   "id": "4a63423e",
   "metadata": {},
   "outputs": [
    {
     "data": {
      "text/plain": [
       "dict_keys(['Name', 'School', 'Age', 'Sex'])"
      ]
     },
     "execution_count": 27,
     "metadata": {},
     "output_type": "execute_result"
    }
   ],
   "source": [
    "bio.keys()"
   ]
  },
  {
   "cell_type": "code",
   "execution_count": 28,
   "id": "9b3edc14",
   "metadata": {},
   "outputs": [
    {
     "data": {
      "text/plain": [
       "dict_values(['Pamela', 'SkilHarvest', 20, 'Female'])"
      ]
     },
     "execution_count": 28,
     "metadata": {},
     "output_type": "execute_result"
    }
   ],
   "source": [
    "bio.values()"
   ]
  },
  {
   "cell_type": "code",
   "execution_count": 29,
   "id": "340bf672",
   "metadata": {},
   "outputs": [
    {
     "data": {
      "text/plain": [
       "dict_items([('Name', 'Pamela'), ('School', 'SkilHarvest'), ('Age', 20), ('Sex', 'Female')])"
      ]
     },
     "execution_count": 29,
     "metadata": {},
     "output_type": "execute_result"
    }
   ],
   "source": [
    "bio.items()"
   ]
  },
  {
   "cell_type": "code",
   "execution_count": 30,
   "id": "a39b41f3",
   "metadata": {},
   "outputs": [],
   "source": [
    "n = {\"coins\":[\"btc\",\"eth\",\"cake\"],\"fruit\":[\"mango\",\"apple\",\"cucumber\",\"watermelon\",\"orange\"],\n",
    "     \"cars\":[\"Toyota\",\"Lexus\",\"Nissan\",\"Honda\",\"BMW\"]}"
   ]
  },
  {
   "cell_type": "code",
   "execution_count": 31,
   "id": "d0fce93c",
   "metadata": {},
   "outputs": [
    {
     "data": {
      "text/plain": [
       "dict_keys(['coins', 'fruit', 'cars'])"
      ]
     },
     "execution_count": 31,
     "metadata": {},
     "output_type": "execute_result"
    }
   ],
   "source": [
    "n.keys()"
   ]
  },
  {
   "cell_type": "code",
   "execution_count": 32,
   "id": "31fcf5f4",
   "metadata": {},
   "outputs": [
    {
     "data": {
      "text/plain": [
       "dict_values([['btc', 'eth', 'cake'], ['mango', 'apple', 'cucumber', 'watermelon', 'orange'], ['Toyota', 'Lexus', 'Nissan', 'Honda', 'BMW']])"
      ]
     },
     "execution_count": 32,
     "metadata": {},
     "output_type": "execute_result"
    }
   ],
   "source": [
    "n.values()"
   ]
  },
  {
   "cell_type": "code",
   "execution_count": 33,
   "id": "a0f0c851",
   "metadata": {},
   "outputs": [
    {
     "data": {
      "text/plain": [
       "['btc', 'eth', 'cake']"
      ]
     },
     "execution_count": 33,
     "metadata": {},
     "output_type": "execute_result"
    }
   ],
   "source": [
    "n[\"coins\"]"
   ]
  },
  {
   "cell_type": "code",
   "execution_count": 34,
   "id": "c476e862",
   "metadata": {},
   "outputs": [
    {
     "data": {
      "text/plain": [
       "['mango', 'apple', 'cucumber', 'watermelon', 'orange']"
      ]
     },
     "execution_count": 34,
     "metadata": {},
     "output_type": "execute_result"
    }
   ],
   "source": [
    "n[\"fruit\"]"
   ]
  },
  {
   "cell_type": "code",
   "execution_count": 35,
   "id": "6a989399",
   "metadata": {},
   "outputs": [],
   "source": [
    "n[\"coins\"] = [\"satoshi\",\"pi\",\"doge\",\"ice\",\"twt\",\"avive\"]"
   ]
  },
  {
   "cell_type": "code",
   "execution_count": 36,
   "id": "cc317ea9",
   "metadata": {},
   "outputs": [
    {
     "data": {
      "text/plain": [
       "{'coins': ['satoshi', 'pi', 'doge', 'ice', 'twt', 'avive'],\n",
       " 'fruit': ['mango', 'apple', 'cucumber', 'watermelon', 'orange'],\n",
       " 'cars': ['Toyota', 'Lexus', 'Nissan', 'Honda', 'BMW']}"
      ]
     },
     "execution_count": 36,
     "metadata": {},
     "output_type": "execute_result"
    }
   ],
   "source": [
    "n"
   ]
  },
  {
   "cell_type": "code",
   "execution_count": null,
   "id": "56f349af",
   "metadata": {},
   "outputs": [],
   "source": []
  }
 ],
 "metadata": {
  "kernelspec": {
   "display_name": "Python 3 (ipykernel)",
   "language": "python",
   "name": "python3"
  },
  "language_info": {
   "codemirror_mode": {
    "name": "ipython",
    "version": 3
   },
   "file_extension": ".py",
   "mimetype": "text/x-python",
   "name": "python",
   "nbconvert_exporter": "python",
   "pygments_lexer": "ipython3",
   "version": "3.11.5"
  }
 },
 "nbformat": 4,
 "nbformat_minor": 5
}
