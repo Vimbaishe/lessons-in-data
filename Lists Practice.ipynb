{
 "cells": [
  {
   "cell_type": "code",
   "execution_count": 2,
   "id": "2f75da4f",
   "metadata": {},
   "outputs": [],
   "source": [
    "universities = [\"Pomona\",\"Swarthmore\",\"Cambridge\",\"Oxford\"]"
   ]
  },
  {
   "cell_type": "code",
   "execution_count": 3,
   "id": "bbe8593f",
   "metadata": {},
   "outputs": [
    {
     "data": {
      "text/plain": [
       "['Pomona', 'Swarthmore', 'Cambridge', 'Oxford']"
      ]
     },
     "execution_count": 3,
     "metadata": {},
     "output_type": "execute_result"
    }
   ],
   "source": [
    "universities"
   ]
  },
  {
   "cell_type": "code",
   "execution_count": 4,
   "id": "df892cef",
   "metadata": {},
   "outputs": [],
   "source": [
    "universities.append(\"Havard\")#add the new name at the end of the list"
   ]
  },
  {
   "cell_type": "code",
   "execution_count": 5,
   "id": "2d83e28f",
   "metadata": {},
   "outputs": [
    {
     "data": {
      "text/plain": [
       "['Pomona', 'Swarthmore', 'Cambridge', 'Oxford', 'Havard']"
      ]
     },
     "execution_count": 5,
     "metadata": {},
     "output_type": "execute_result"
    }
   ],
   "source": [
    "universities"
   ]
  },
  {
   "cell_type": "code",
   "execution_count": 6,
   "id": "8cc2651b",
   "metadata": {},
   "outputs": [],
   "source": [
    "universities.append(\"Yale\")"
   ]
  },
  {
   "cell_type": "code",
   "execution_count": 7,
   "id": "fe4af14c",
   "metadata": {},
   "outputs": [
    {
     "data": {
      "text/plain": [
       "['Pomona', 'Swarthmore', 'Cambridge', 'Oxford', 'Havard', 'Yale']"
      ]
     },
     "execution_count": 7,
     "metadata": {},
     "output_type": "execute_result"
    }
   ],
   "source": [
    "universities"
   ]
  },
  {
   "cell_type": "code",
   "execution_count": 8,
   "id": "2435d129",
   "metadata": {},
   "outputs": [],
   "source": [
    "universities.append(\"Brown\")"
   ]
  },
  {
   "cell_type": "code",
   "execution_count": 9,
   "id": "4d225085",
   "metadata": {},
   "outputs": [
    {
     "data": {
      "text/plain": [
       "['Pomona', 'Swarthmore', 'Cambridge', 'Oxford', 'Havard', 'Yale', 'Brown']"
      ]
     },
     "execution_count": 9,
     "metadata": {},
     "output_type": "execute_result"
    }
   ],
   "source": [
    "universities"
   ]
  },
  {
   "cell_type": "code",
   "execution_count": 10,
   "id": "84808229",
   "metadata": {},
   "outputs": [],
   "source": [
    "universities.append(\"Princeton\")"
   ]
  },
  {
   "cell_type": "code",
   "execution_count": 11,
   "id": "6c93300d",
   "metadata": {},
   "outputs": [
    {
     "data": {
      "text/plain": [
       "['Pomona',\n",
       " 'Swarthmore',\n",
       " 'Cambridge',\n",
       " 'Oxford',\n",
       " 'Havard',\n",
       " 'Yale',\n",
       " 'Brown',\n",
       " 'Princeton']"
      ]
     },
     "execution_count": 11,
     "metadata": {},
     "output_type": "execute_result"
    }
   ],
   "source": [
    "universities"
   ]
  },
  {
   "cell_type": "code",
   "execution_count": 12,
   "id": "2181124e",
   "metadata": {},
   "outputs": [],
   "source": [
    "universities.append(\"Dartmouth\")"
   ]
  },
  {
   "cell_type": "code",
   "execution_count": 13,
   "id": "b689a608",
   "metadata": {},
   "outputs": [
    {
     "data": {
      "text/plain": [
       "['Pomona',\n",
       " 'Swarthmore',\n",
       " 'Cambridge',\n",
       " 'Oxford',\n",
       " 'Havard',\n",
       " 'Yale',\n",
       " 'Brown',\n",
       " 'Princeton',\n",
       " 'Dartmouth']"
      ]
     },
     "execution_count": 13,
     "metadata": {},
     "output_type": "execute_result"
    }
   ],
   "source": [
    "universities"
   ]
  },
  {
   "cell_type": "code",
   "execution_count": 14,
   "id": "9c5c246a",
   "metadata": {},
   "outputs": [],
   "source": [
    "universities.append(\"Stanford\")"
   ]
  },
  {
   "cell_type": "code",
   "execution_count": 15,
   "id": "44229547",
   "metadata": {},
   "outputs": [
    {
     "data": {
      "text/plain": [
       "['Pomona',\n",
       " 'Swarthmore',\n",
       " 'Cambridge',\n",
       " 'Oxford',\n",
       " 'Havard',\n",
       " 'Yale',\n",
       " 'Brown',\n",
       " 'Princeton',\n",
       " 'Dartmouth',\n",
       " 'Stanford']"
      ]
     },
     "execution_count": 15,
     "metadata": {},
     "output_type": "execute_result"
    }
   ],
   "source": [
    "universities"
   ]
  },
  {
   "cell_type": "code",
   "execution_count": 16,
   "id": "c3a7bdf9",
   "metadata": {},
   "outputs": [],
   "source": [
    "universities.append(\"Cornell\")"
   ]
  },
  {
   "cell_type": "code",
   "execution_count": 17,
   "id": "4f88781c",
   "metadata": {},
   "outputs": [
    {
     "data": {
      "text/plain": [
       "['Pomona',\n",
       " 'Swarthmore',\n",
       " 'Cambridge',\n",
       " 'Oxford',\n",
       " 'Havard',\n",
       " 'Yale',\n",
       " 'Brown',\n",
       " 'Princeton',\n",
       " 'Dartmouth',\n",
       " 'Stanford',\n",
       " 'Cornell']"
      ]
     },
     "execution_count": 17,
     "metadata": {},
     "output_type": "execute_result"
    }
   ],
   "source": [
    "universities"
   ]
  },
  {
   "cell_type": "code",
   "execution_count": 18,
   "id": "4d123969",
   "metadata": {},
   "outputs": [],
   "source": [
    "universities.append(\"Vanderbuilt\")"
   ]
  },
  {
   "cell_type": "code",
   "execution_count": 19,
   "id": "dc1f1153",
   "metadata": {},
   "outputs": [
    {
     "data": {
      "text/plain": [
       "['Pomona',\n",
       " 'Swarthmore',\n",
       " 'Cambridge',\n",
       " 'Oxford',\n",
       " 'Havard',\n",
       " 'Yale',\n",
       " 'Brown',\n",
       " 'Princeton',\n",
       " 'Dartmouth',\n",
       " 'Stanford',\n",
       " 'Cornell',\n",
       " 'Vanderbuilt']"
      ]
     },
     "execution_count": 19,
     "metadata": {},
     "output_type": "execute_result"
    }
   ],
   "source": [
    "universities"
   ]
  },
  {
   "cell_type": "code",
   "execution_count": 20,
   "id": "5724d1b4",
   "metadata": {},
   "outputs": [],
   "source": [
    "universities.append(\"Williams\")"
   ]
  },
  {
   "cell_type": "code",
   "execution_count": 21,
   "id": "2413bf09",
   "metadata": {},
   "outputs": [
    {
     "data": {
      "text/plain": [
       "['Pomona',\n",
       " 'Swarthmore',\n",
       " 'Cambridge',\n",
       " 'Oxford',\n",
       " 'Havard',\n",
       " 'Yale',\n",
       " 'Brown',\n",
       " 'Princeton',\n",
       " 'Dartmouth',\n",
       " 'Stanford',\n",
       " 'Cornell',\n",
       " 'Vanderbuilt',\n",
       " 'Williams']"
      ]
     },
     "execution_count": 21,
     "metadata": {},
     "output_type": "execute_result"
    }
   ],
   "source": [
    "universities"
   ]
  },
  {
   "cell_type": "code",
   "execution_count": 22,
   "id": "86f4e75c",
   "metadata": {},
   "outputs": [],
   "source": [
    "universities.append(\"UCT\")"
   ]
  },
  {
   "cell_type": "code",
   "execution_count": 23,
   "id": "ab99caab",
   "metadata": {},
   "outputs": [
    {
     "data": {
      "text/plain": [
       "['Pomona',\n",
       " 'Swarthmore',\n",
       " 'Cambridge',\n",
       " 'Oxford',\n",
       " 'Havard',\n",
       " 'Yale',\n",
       " 'Brown',\n",
       " 'Princeton',\n",
       " 'Dartmouth',\n",
       " 'Stanford',\n",
       " 'Cornell',\n",
       " 'Vanderbuilt',\n",
       " 'Williams',\n",
       " 'UCT']"
      ]
     },
     "execution_count": 23,
     "metadata": {},
     "output_type": "execute_result"
    }
   ],
   "source": [
    "universities"
   ]
  },
  {
   "cell_type": "code",
   "execution_count": 25,
   "id": "8d92c85f",
   "metadata": {},
   "outputs": [],
   "source": [
    "my_choices = universities.copy()#make a copy of the list and store it in a variable called my_choices"
   ]
  },
  {
   "cell_type": "code",
   "execution_count": 26,
   "id": "3b1b22d5",
   "metadata": {},
   "outputs": [
    {
     "data": {
      "text/plain": [
       "['Pomona',\n",
       " 'Swarthmore',\n",
       " 'Cambridge',\n",
       " 'Oxford',\n",
       " 'Havard',\n",
       " 'Yale',\n",
       " 'Brown',\n",
       " 'Princeton',\n",
       " 'Dartmouth',\n",
       " 'Stanford',\n",
       " 'Cornell',\n",
       " 'Vanderbuilt',\n",
       " 'Williams',\n",
       " 'UCT']"
      ]
     },
     "execution_count": 26,
     "metadata": {},
     "output_type": "execute_result"
    }
   ],
   "source": [
    "my_choices"
   ]
  },
  {
   "cell_type": "code",
   "execution_count": 28,
   "id": "8d757c16",
   "metadata": {},
   "outputs": [],
   "source": [
    "universities.extend([\"Wellesey\",\"Smith\"])#add more than one item to your list"
   ]
  },
  {
   "cell_type": "code",
   "execution_count": 29,
   "id": "360afd71",
   "metadata": {},
   "outputs": [
    {
     "data": {
      "text/plain": [
       "['Pomona',\n",
       " 'Swarthmore',\n",
       " 'Cambridge',\n",
       " 'Oxford',\n",
       " 'Havard',\n",
       " 'Yale',\n",
       " 'Brown',\n",
       " 'Princeton',\n",
       " 'Dartmouth',\n",
       " 'Stanford',\n",
       " 'Cornell',\n",
       " 'Vanderbuilt',\n",
       " 'Williams',\n",
       " 'UCT',\n",
       " 'Wellesey',\n",
       " 'Smith']"
      ]
     },
     "execution_count": 29,
     "metadata": {},
     "output_type": "execute_result"
    }
   ],
   "source": [
    "universities"
   ]
  },
  {
   "cell_type": "code",
   "execution_count": 30,
   "id": "4aa24621",
   "metadata": {},
   "outputs": [],
   "source": [
    "universities.extend([\"MIT\",\"Duke\"])"
   ]
  },
  {
   "cell_type": "code",
   "execution_count": 31,
   "id": "06c50661",
   "metadata": {},
   "outputs": [
    {
     "data": {
      "text/plain": [
       "['Pomona',\n",
       " 'Swarthmore',\n",
       " 'Cambridge',\n",
       " 'Oxford',\n",
       " 'Havard',\n",
       " 'Yale',\n",
       " 'Brown',\n",
       " 'Princeton',\n",
       " 'Dartmouth',\n",
       " 'Stanford',\n",
       " 'Cornell',\n",
       " 'Vanderbuilt',\n",
       " 'Williams',\n",
       " 'UCT',\n",
       " 'Wellesey',\n",
       " 'Smith',\n",
       " 'MIT',\n",
       " 'Duke']"
      ]
     },
     "execution_count": 31,
     "metadata": {},
     "output_type": "execute_result"
    }
   ],
   "source": [
    "universities"
   ]
  },
  {
   "cell_type": "code",
   "execution_count": 33,
   "id": "aef33e8f",
   "metadata": {},
   "outputs": [],
   "source": [
    "universities.extend([\"Columbia\",\"UCLA\"])"
   ]
  },
  {
   "cell_type": "code",
   "execution_count": 34,
   "id": "5e4b1b1b",
   "metadata": {},
   "outputs": [
    {
     "data": {
      "text/plain": [
       "['Pomona',\n",
       " 'Swarthmore',\n",
       " 'Cambridge',\n",
       " 'Oxford',\n",
       " 'Havard',\n",
       " 'Yale',\n",
       " 'Brown',\n",
       " 'Princeton',\n",
       " 'Dartmouth',\n",
       " 'Stanford',\n",
       " 'Cornell',\n",
       " 'Vanderbuilt',\n",
       " 'Williams',\n",
       " 'UCT',\n",
       " 'Wellesey',\n",
       " 'Smith',\n",
       " 'MIT',\n",
       " 'Duke',\n",
       " '',\n",
       " '',\n",
       " 'Columbia',\n",
       " 'UCLA']"
      ]
     },
     "execution_count": 34,
     "metadata": {},
     "output_type": "execute_result"
    }
   ],
   "source": [
    "universities"
   ]
  },
  {
   "cell_type": "code",
   "execution_count": 35,
   "id": "d4623df8",
   "metadata": {},
   "outputs": [],
   "source": [
    "universities.extend([\"Georgrtown\",\"Carnegie Mellon\"])"
   ]
  },
  {
   "cell_type": "code",
   "execution_count": 36,
   "id": "80d40003",
   "metadata": {},
   "outputs": [
    {
     "data": {
      "text/plain": [
       "['Pomona',\n",
       " 'Swarthmore',\n",
       " 'Cambridge',\n",
       " 'Oxford',\n",
       " 'Havard',\n",
       " 'Yale',\n",
       " 'Brown',\n",
       " 'Princeton',\n",
       " 'Dartmouth',\n",
       " 'Stanford',\n",
       " 'Cornell',\n",
       " 'Vanderbuilt',\n",
       " 'Williams',\n",
       " 'UCT',\n",
       " 'Wellesey',\n",
       " 'Smith',\n",
       " 'MIT',\n",
       " 'Duke',\n",
       " '',\n",
       " '',\n",
       " 'Columbia',\n",
       " 'UCLA',\n",
       " 'Georgrtown',\n",
       " 'Carnegie Mellon']"
      ]
     },
     "execution_count": 36,
     "metadata": {},
     "output_type": "execute_result"
    }
   ],
   "source": [
    "universities"
   ]
  },
  {
   "cell_type": "code",
   "execution_count": 37,
   "id": "f6750ab4",
   "metadata": {},
   "outputs": [],
   "source": [
    "universities.extend([\"New York\",\"Rice\"])"
   ]
  },
  {
   "cell_type": "code",
   "execution_count": 38,
   "id": "b2555fa8",
   "metadata": {},
   "outputs": [
    {
     "data": {
      "text/plain": [
       "['Pomona',\n",
       " 'Swarthmore',\n",
       " 'Cambridge',\n",
       " 'Oxford',\n",
       " 'Havard',\n",
       " 'Yale',\n",
       " 'Brown',\n",
       " 'Princeton',\n",
       " 'Dartmouth',\n",
       " 'Stanford',\n",
       " 'Cornell',\n",
       " 'Vanderbuilt',\n",
       " 'Williams',\n",
       " 'UCT',\n",
       " 'Wellesey',\n",
       " 'Smith',\n",
       " 'MIT',\n",
       " 'Duke',\n",
       " '',\n",
       " '',\n",
       " 'Columbia',\n",
       " 'UCLA',\n",
       " 'Georgrtown',\n",
       " 'Carnegie Mellon',\n",
       " 'New York',\n",
       " 'Rice']"
      ]
     },
     "execution_count": 38,
     "metadata": {},
     "output_type": "execute_result"
    }
   ],
   "source": [
    "universities"
   ]
  },
  {
   "cell_type": "code",
   "execution_count": 39,
   "id": "38816a44",
   "metadata": {},
   "outputs": [],
   "source": [
    "universities.extend([\"Boston\",\"Edinburgh\"])"
   ]
  },
  {
   "cell_type": "code",
   "execution_count": 40,
   "id": "b1dfd4c7",
   "metadata": {},
   "outputs": [
    {
     "data": {
      "text/plain": [
       "['Pomona',\n",
       " 'Swarthmore',\n",
       " 'Cambridge',\n",
       " 'Oxford',\n",
       " 'Havard',\n",
       " 'Yale',\n",
       " 'Brown',\n",
       " 'Princeton',\n",
       " 'Dartmouth',\n",
       " 'Stanford',\n",
       " 'Cornell',\n",
       " 'Vanderbuilt',\n",
       " 'Williams',\n",
       " 'UCT',\n",
       " 'Wellesey',\n",
       " 'Smith',\n",
       " 'MIT',\n",
       " 'Duke',\n",
       " '',\n",
       " '',\n",
       " 'Columbia',\n",
       " 'UCLA',\n",
       " 'Georgrtown',\n",
       " 'Carnegie Mellon',\n",
       " 'New York',\n",
       " 'Rice',\n",
       " 'Boston',\n",
       " 'Edinburgh']"
      ]
     },
     "execution_count": 40,
     "metadata": {},
     "output_type": "execute_result"
    }
   ],
   "source": [
    "universities"
   ]
  },
  {
   "cell_type": "code",
   "execution_count": 41,
   "id": "98a1379f",
   "metadata": {},
   "outputs": [],
   "source": [
    "universities.extend([\"Glasgow\",\"Bristol\"])"
   ]
  },
  {
   "cell_type": "code",
   "execution_count": 43,
   "id": "264284ce",
   "metadata": {},
   "outputs": [
    {
     "data": {
      "text/plain": [
       "['Pomona',\n",
       " 'Swarthmore',\n",
       " 'Cambridge',\n",
       " 'Oxford',\n",
       " 'Havard',\n",
       " 'Yale',\n",
       " 'Brown',\n",
       " 'Princeton',\n",
       " 'Dartmouth',\n",
       " 'Stanford',\n",
       " 'Cornell',\n",
       " 'Vanderbuilt',\n",
       " 'Williams',\n",
       " 'UCT',\n",
       " 'Wellesey',\n",
       " 'Smith',\n",
       " 'MIT',\n",
       " 'Duke',\n",
       " '',\n",
       " '',\n",
       " 'Columbia',\n",
       " 'UCLA',\n",
       " 'Georgrtown',\n",
       " 'Carnegie Mellon',\n",
       " 'New York',\n",
       " 'Rice',\n",
       " 'Boston',\n",
       " 'Edinburgh',\n",
       " 'Glasgow',\n",
       " 'Bristol']"
      ]
     },
     "execution_count": 43,
     "metadata": {},
     "output_type": "execute_result"
    }
   ],
   "source": [
    "universities"
   ]
  },
  {
   "cell_type": "code",
   "execution_count": 44,
   "id": "489cabe3",
   "metadata": {},
   "outputs": [],
   "source": [
    "universities.extend([\"Imperial College London\",\"London School of Economics\"])"
   ]
  },
  {
   "cell_type": "code",
   "execution_count": 45,
   "id": "92b648de",
   "metadata": {},
   "outputs": [
    {
     "data": {
      "text/plain": [
       "['Pomona',\n",
       " 'Swarthmore',\n",
       " 'Cambridge',\n",
       " 'Oxford',\n",
       " 'Havard',\n",
       " 'Yale',\n",
       " 'Brown',\n",
       " 'Princeton',\n",
       " 'Dartmouth',\n",
       " 'Stanford',\n",
       " 'Cornell',\n",
       " 'Vanderbuilt',\n",
       " 'Williams',\n",
       " 'UCT',\n",
       " 'Wellesey',\n",
       " 'Smith',\n",
       " 'MIT',\n",
       " 'Duke',\n",
       " '',\n",
       " '',\n",
       " 'Columbia',\n",
       " 'UCLA',\n",
       " 'Georgrtown',\n",
       " 'Carnegie Mellon',\n",
       " 'New York',\n",
       " 'Rice',\n",
       " 'Boston',\n",
       " 'Edinburgh',\n",
       " 'Glasgow',\n",
       " 'Bristol',\n",
       " 'Imperial College London',\n",
       " 'London School of Economics']"
      ]
     },
     "execution_count": 45,
     "metadata": {},
     "output_type": "execute_result"
    }
   ],
   "source": [
    "universities"
   ]
  },
  {
   "cell_type": "code",
   "execution_count": 46,
   "id": "0b9d0254",
   "metadata": {},
   "outputs": [],
   "source": [
    "universities.extend([\"UniLag\",\"UniIlorin\"])"
   ]
  },
  {
   "cell_type": "code",
   "execution_count": 47,
   "id": "58e74ed6",
   "metadata": {},
   "outputs": [
    {
     "data": {
      "text/plain": [
       "['Pomona',\n",
       " 'Swarthmore',\n",
       " 'Cambridge',\n",
       " 'Oxford',\n",
       " 'Havard',\n",
       " 'Yale',\n",
       " 'Brown',\n",
       " 'Princeton',\n",
       " 'Dartmouth',\n",
       " 'Stanford',\n",
       " 'Cornell',\n",
       " 'Vanderbuilt',\n",
       " 'Williams',\n",
       " 'UCT',\n",
       " 'Wellesey',\n",
       " 'Smith',\n",
       " 'MIT',\n",
       " 'Duke',\n",
       " '',\n",
       " '',\n",
       " 'Columbia',\n",
       " 'UCLA',\n",
       " 'Georgrtown',\n",
       " 'Carnegie Mellon',\n",
       " 'New York',\n",
       " 'Rice',\n",
       " 'Boston',\n",
       " 'Edinburgh',\n",
       " 'Glasgow',\n",
       " 'Bristol',\n",
       " 'Imperial College London',\n",
       " 'London School of Economics',\n",
       " 'UniLag',\n",
       " 'UniIlorin']"
      ]
     },
     "execution_count": 47,
     "metadata": {},
     "output_type": "execute_result"
    }
   ],
   "source": [
    "universities"
   ]
  },
  {
   "cell_type": "code",
   "execution_count": 48,
   "id": "d70aefcf",
   "metadata": {},
   "outputs": [],
   "source": [
    "universities.extend([\"Africa University\",\"Stellenbosch\"])"
   ]
  },
  {
   "cell_type": "code",
   "execution_count": 49,
   "id": "158fab00",
   "metadata": {},
   "outputs": [
    {
     "data": {
      "text/plain": [
       "['Pomona',\n",
       " 'Swarthmore',\n",
       " 'Cambridge',\n",
       " 'Oxford',\n",
       " 'Havard',\n",
       " 'Yale',\n",
       " 'Brown',\n",
       " 'Princeton',\n",
       " 'Dartmouth',\n",
       " 'Stanford',\n",
       " 'Cornell',\n",
       " 'Vanderbuilt',\n",
       " 'Williams',\n",
       " 'UCT',\n",
       " 'Wellesey',\n",
       " 'Smith',\n",
       " 'MIT',\n",
       " 'Duke',\n",
       " '',\n",
       " '',\n",
       " 'Columbia',\n",
       " 'UCLA',\n",
       " 'Georgrtown',\n",
       " 'Carnegie Mellon',\n",
       " 'New York',\n",
       " 'Rice',\n",
       " 'Boston',\n",
       " 'Edinburgh',\n",
       " 'Glasgow',\n",
       " 'Bristol',\n",
       " 'Imperial College London',\n",
       " 'London School of Economics',\n",
       " 'UniLag',\n",
       " 'UniIlorin',\n",
       " 'Africa University',\n",
       " 'Stellenbosch']"
      ]
     },
     "execution_count": 49,
     "metadata": {},
     "output_type": "execute_result"
    }
   ],
   "source": [
    "universities"
   ]
  },
  {
   "cell_type": "code",
   "execution_count": 51,
   "id": "6480703b",
   "metadata": {},
   "outputs": [
    {
     "data": {
      "text/plain": [
       "'Stellenbosch'"
      ]
     },
     "execution_count": 51,
     "metadata": {},
     "output_type": "execute_result"
    }
   ],
   "source": [
    "universities.pop()#print and remove the item at the end of the list"
   ]
  },
  {
   "cell_type": "code",
   "execution_count": 52,
   "id": "e49eb00f",
   "metadata": {},
   "outputs": [
    {
     "data": {
      "text/plain": [
       "'Africa University'"
      ]
     },
     "execution_count": 52,
     "metadata": {},
     "output_type": "execute_result"
    }
   ],
   "source": [
    "universities.pop()"
   ]
  },
  {
   "cell_type": "code",
   "execution_count": 53,
   "id": "4a13cfd5",
   "metadata": {},
   "outputs": [
    {
     "data": {
      "text/plain": [
       "'UniIlorin'"
      ]
     },
     "execution_count": 53,
     "metadata": {},
     "output_type": "execute_result"
    }
   ],
   "source": [
    "universities.pop()"
   ]
  },
  {
   "cell_type": "code",
   "execution_count": 54,
   "id": "c902bd29",
   "metadata": {},
   "outputs": [
    {
     "data": {
      "text/plain": [
       "'UniLag'"
      ]
     },
     "execution_count": 54,
     "metadata": {},
     "output_type": "execute_result"
    }
   ],
   "source": [
    "universities.pop()"
   ]
  },
  {
   "cell_type": "code",
   "execution_count": 55,
   "id": "ed7b9449",
   "metadata": {},
   "outputs": [
    {
     "data": {
      "text/plain": [
       "'London School of Economics'"
      ]
     },
     "execution_count": 55,
     "metadata": {},
     "output_type": "execute_result"
    }
   ],
   "source": [
    "universities.pop()"
   ]
  },
  {
   "cell_type": "code",
   "execution_count": 56,
   "id": "7552006f",
   "metadata": {},
   "outputs": [
    {
     "data": {
      "text/plain": [
       "'Imperial College London'"
      ]
     },
     "execution_count": 56,
     "metadata": {},
     "output_type": "execute_result"
    }
   ],
   "source": [
    "universities.pop()"
   ]
  },
  {
   "cell_type": "code",
   "execution_count": 57,
   "id": "b42b7f3b",
   "metadata": {},
   "outputs": [
    {
     "data": {
      "text/plain": [
       "'Bristol'"
      ]
     },
     "execution_count": 57,
     "metadata": {},
     "output_type": "execute_result"
    }
   ],
   "source": [
    "universities.pop()"
   ]
  },
  {
   "cell_type": "code",
   "execution_count": 58,
   "id": "6e4b40fc",
   "metadata": {},
   "outputs": [
    {
     "data": {
      "text/plain": [
       "'Glasgow'"
      ]
     },
     "execution_count": 58,
     "metadata": {},
     "output_type": "execute_result"
    }
   ],
   "source": [
    "universities.pop()"
   ]
  },
  {
   "cell_type": "code",
   "execution_count": 59,
   "id": "90ae4fe0",
   "metadata": {},
   "outputs": [
    {
     "data": {
      "text/plain": [
       "'Edinburgh'"
      ]
     },
     "execution_count": 59,
     "metadata": {},
     "output_type": "execute_result"
    }
   ],
   "source": [
    "universities.pop()"
   ]
  },
  {
   "cell_type": "code",
   "execution_count": 60,
   "id": "4079dc23",
   "metadata": {},
   "outputs": [
    {
     "data": {
      "text/plain": [
       "'Boston'"
      ]
     },
     "execution_count": 60,
     "metadata": {},
     "output_type": "execute_result"
    }
   ],
   "source": [
    "universities.pop()"
   ]
  },
  {
   "cell_type": "code",
   "execution_count": 61,
   "id": "a91f5761",
   "metadata": {},
   "outputs": [
    {
     "data": {
      "text/plain": [
       "['Pomona',\n",
       " 'Swarthmore',\n",
       " 'Cambridge',\n",
       " 'Oxford',\n",
       " 'Havard',\n",
       " 'Yale',\n",
       " 'Brown',\n",
       " 'Princeton',\n",
       " 'Dartmouth',\n",
       " 'Stanford',\n",
       " 'Cornell',\n",
       " 'Vanderbuilt',\n",
       " 'Williams',\n",
       " 'UCT',\n",
       " 'Wellesey',\n",
       " 'Smith',\n",
       " 'MIT',\n",
       " 'Duke',\n",
       " '',\n",
       " '',\n",
       " 'Columbia',\n",
       " 'UCLA',\n",
       " 'Georgrtown',\n",
       " 'Carnegie Mellon',\n",
       " 'New York',\n",
       " 'Rice']"
      ]
     },
     "execution_count": 61,
     "metadata": {},
     "output_type": "execute_result"
    }
   ],
   "source": [
    "universities"
   ]
  },
  {
   "cell_type": "code",
   "execution_count": 62,
   "id": "f0f6af0a",
   "metadata": {},
   "outputs": [],
   "source": [
    "universities.sort()#print in aphabetical order"
   ]
  },
  {
   "cell_type": "code",
   "execution_count": 63,
   "id": "1c1c8e1f",
   "metadata": {},
   "outputs": [
    {
     "data": {
      "text/plain": [
       "['',\n",
       " '',\n",
       " 'Brown',\n",
       " 'Cambridge',\n",
       " 'Carnegie Mellon',\n",
       " 'Columbia',\n",
       " 'Cornell',\n",
       " 'Dartmouth',\n",
       " 'Duke',\n",
       " 'Georgrtown',\n",
       " 'Havard',\n",
       " 'MIT',\n",
       " 'New York',\n",
       " 'Oxford',\n",
       " 'Pomona',\n",
       " 'Princeton',\n",
       " 'Rice',\n",
       " 'Smith',\n",
       " 'Stanford',\n",
       " 'Swarthmore',\n",
       " 'UCLA',\n",
       " 'UCT',\n",
       " 'Vanderbuilt',\n",
       " 'Wellesey',\n",
       " 'Williams',\n",
       " 'Yale']"
      ]
     },
     "execution_count": 63,
     "metadata": {},
     "output_type": "execute_result"
    }
   ],
   "source": [
    "universities"
   ]
  },
  {
   "cell_type": "code",
   "execution_count": 64,
   "id": "fd499a1a",
   "metadata": {},
   "outputs": [],
   "source": [
    "universities.reverse()#change the order of the list from top to bottom"
   ]
  },
  {
   "cell_type": "code",
   "execution_count": 65,
   "id": "8a4afc3e",
   "metadata": {},
   "outputs": [
    {
     "data": {
      "text/plain": [
       "['Yale',\n",
       " 'Williams',\n",
       " 'Wellesey',\n",
       " 'Vanderbuilt',\n",
       " 'UCT',\n",
       " 'UCLA',\n",
       " 'Swarthmore',\n",
       " 'Stanford',\n",
       " 'Smith',\n",
       " 'Rice',\n",
       " 'Princeton',\n",
       " 'Pomona',\n",
       " 'Oxford',\n",
       " 'New York',\n",
       " 'MIT',\n",
       " 'Havard',\n",
       " 'Georgrtown',\n",
       " 'Duke',\n",
       " 'Dartmouth',\n",
       " 'Cornell',\n",
       " 'Columbia',\n",
       " 'Carnegie Mellon',\n",
       " 'Cambridge',\n",
       " 'Brown',\n",
       " '',\n",
       " '']"
      ]
     },
     "execution_count": 65,
     "metadata": {},
     "output_type": "execute_result"
    }
   ],
   "source": [
    "universities"
   ]
  },
  {
   "cell_type": "code",
   "execution_count": 66,
   "id": "3a640a2a",
   "metadata": {},
   "outputs": [],
   "source": [
    "universities.remove(\"\")#remove the items from the list "
   ]
  },
  {
   "cell_type": "code",
   "execution_count": 67,
   "id": "737c29ac",
   "metadata": {},
   "outputs": [
    {
     "data": {
      "text/plain": [
       "['Yale',\n",
       " 'Williams',\n",
       " 'Wellesey',\n",
       " 'Vanderbuilt',\n",
       " 'UCT',\n",
       " 'UCLA',\n",
       " 'Swarthmore',\n",
       " 'Stanford',\n",
       " 'Smith',\n",
       " 'Rice',\n",
       " 'Princeton',\n",
       " 'Pomona',\n",
       " 'Oxford',\n",
       " 'New York',\n",
       " 'MIT',\n",
       " 'Havard',\n",
       " 'Georgrtown',\n",
       " 'Duke',\n",
       " 'Dartmouth',\n",
       " 'Cornell',\n",
       " 'Columbia',\n",
       " 'Carnegie Mellon',\n",
       " 'Cambridge',\n",
       " 'Brown',\n",
       " '']"
      ]
     },
     "execution_count": 67,
     "metadata": {},
     "output_type": "execute_result"
    }
   ],
   "source": [
    "universities"
   ]
  },
  {
   "cell_type": "code",
   "execution_count": 68,
   "id": "231be3e5",
   "metadata": {},
   "outputs": [],
   "source": [
    "universities.remove(\"\")"
   ]
  },
  {
   "cell_type": "code",
   "execution_count": 69,
   "id": "2374e8db",
   "metadata": {},
   "outputs": [
    {
     "data": {
      "text/plain": [
       "['Yale',\n",
       " 'Williams',\n",
       " 'Wellesey',\n",
       " 'Vanderbuilt',\n",
       " 'UCT',\n",
       " 'UCLA',\n",
       " 'Swarthmore',\n",
       " 'Stanford',\n",
       " 'Smith',\n",
       " 'Rice',\n",
       " 'Princeton',\n",
       " 'Pomona',\n",
       " 'Oxford',\n",
       " 'New York',\n",
       " 'MIT',\n",
       " 'Havard',\n",
       " 'Georgrtown',\n",
       " 'Duke',\n",
       " 'Dartmouth',\n",
       " 'Cornell',\n",
       " 'Columbia',\n",
       " 'Carnegie Mellon',\n",
       " 'Cambridge',\n",
       " 'Brown']"
      ]
     },
     "execution_count": 69,
     "metadata": {},
     "output_type": "execute_result"
    }
   ],
   "source": [
    "universities"
   ]
  },
  {
   "cell_type": "code",
   "execution_count": 70,
   "id": "04f2b871",
   "metadata": {},
   "outputs": [],
   "source": [
    "universities.remove(\"Georgrtown\")"
   ]
  },
  {
   "cell_type": "code",
   "execution_count": 71,
   "id": "b3b1a234",
   "metadata": {},
   "outputs": [
    {
     "data": {
      "text/plain": [
       "['Yale',\n",
       " 'Williams',\n",
       " 'Wellesey',\n",
       " 'Vanderbuilt',\n",
       " 'UCT',\n",
       " 'UCLA',\n",
       " 'Swarthmore',\n",
       " 'Stanford',\n",
       " 'Smith',\n",
       " 'Rice',\n",
       " 'Princeton',\n",
       " 'Pomona',\n",
       " 'Oxford',\n",
       " 'New York',\n",
       " 'MIT',\n",
       " 'Havard',\n",
       " 'Duke',\n",
       " 'Dartmouth',\n",
       " 'Cornell',\n",
       " 'Columbia',\n",
       " 'Carnegie Mellon',\n",
       " 'Cambridge',\n",
       " 'Brown']"
      ]
     },
     "execution_count": 71,
     "metadata": {},
     "output_type": "execute_result"
    }
   ],
   "source": [
    "universities"
   ]
  },
  {
   "cell_type": "code",
   "execution_count": 72,
   "id": "f258b25e",
   "metadata": {},
   "outputs": [],
   "source": [
    "universities.remove(\"MIT\")"
   ]
  },
  {
   "cell_type": "code",
   "execution_count": 73,
   "id": "f0730528",
   "metadata": {},
   "outputs": [
    {
     "data": {
      "text/plain": [
       "['Yale',\n",
       " 'Williams',\n",
       " 'Wellesey',\n",
       " 'Vanderbuilt',\n",
       " 'UCT',\n",
       " 'UCLA',\n",
       " 'Swarthmore',\n",
       " 'Stanford',\n",
       " 'Smith',\n",
       " 'Rice',\n",
       " 'Princeton',\n",
       " 'Pomona',\n",
       " 'Oxford',\n",
       " 'New York',\n",
       " 'Havard',\n",
       " 'Duke',\n",
       " 'Dartmouth',\n",
       " 'Cornell',\n",
       " 'Columbia',\n",
       " 'Carnegie Mellon',\n",
       " 'Cambridge',\n",
       " 'Brown']"
      ]
     },
     "execution_count": 73,
     "metadata": {},
     "output_type": "execute_result"
    }
   ],
   "source": [
    "universities"
   ]
  },
  {
   "cell_type": "code",
   "execution_count": 74,
   "id": "92985deb",
   "metadata": {},
   "outputs": [],
   "source": [
    "universities.remove(\"Smith\")"
   ]
  },
  {
   "cell_type": "code",
   "execution_count": 75,
   "id": "43cd0385",
   "metadata": {},
   "outputs": [
    {
     "data": {
      "text/plain": [
       "['Yale',\n",
       " 'Williams',\n",
       " 'Wellesey',\n",
       " 'Vanderbuilt',\n",
       " 'UCT',\n",
       " 'UCLA',\n",
       " 'Swarthmore',\n",
       " 'Stanford',\n",
       " 'Rice',\n",
       " 'Princeton',\n",
       " 'Pomona',\n",
       " 'Oxford',\n",
       " 'New York',\n",
       " 'Havard',\n",
       " 'Duke',\n",
       " 'Dartmouth',\n",
       " 'Cornell',\n",
       " 'Columbia',\n",
       " 'Carnegie Mellon',\n",
       " 'Cambridge',\n",
       " 'Brown']"
      ]
     },
     "execution_count": 75,
     "metadata": {},
     "output_type": "execute_result"
    }
   ],
   "source": [
    "universities"
   ]
  },
  {
   "cell_type": "code",
   "execution_count": 76,
   "id": "eabea8c0",
   "metadata": {},
   "outputs": [],
   "source": [
    "universities.remove(\"Rice\")"
   ]
  },
  {
   "cell_type": "code",
   "execution_count": 77,
   "id": "2f7187db",
   "metadata": {},
   "outputs": [
    {
     "data": {
      "text/plain": [
       "['Yale',\n",
       " 'Williams',\n",
       " 'Wellesey',\n",
       " 'Vanderbuilt',\n",
       " 'UCT',\n",
       " 'UCLA',\n",
       " 'Swarthmore',\n",
       " 'Stanford',\n",
       " 'Princeton',\n",
       " 'Pomona',\n",
       " 'Oxford',\n",
       " 'New York',\n",
       " 'Havard',\n",
       " 'Duke',\n",
       " 'Dartmouth',\n",
       " 'Cornell',\n",
       " 'Columbia',\n",
       " 'Carnegie Mellon',\n",
       " 'Cambridge',\n",
       " 'Brown']"
      ]
     },
     "execution_count": 77,
     "metadata": {},
     "output_type": "execute_result"
    }
   ],
   "source": [
    "universities"
   ]
  },
  {
   "cell_type": "code",
   "execution_count": 78,
   "id": "8d69b0b2",
   "metadata": {},
   "outputs": [],
   "source": [
    "universities.remove(\"UCT\")"
   ]
  },
  {
   "cell_type": "code",
   "execution_count": 79,
   "id": "10bbbd91",
   "metadata": {},
   "outputs": [
    {
     "data": {
      "text/plain": [
       "['Yale',\n",
       " 'Williams',\n",
       " 'Wellesey',\n",
       " 'Vanderbuilt',\n",
       " 'UCLA',\n",
       " 'Swarthmore',\n",
       " 'Stanford',\n",
       " 'Princeton',\n",
       " 'Pomona',\n",
       " 'Oxford',\n",
       " 'New York',\n",
       " 'Havard',\n",
       " 'Duke',\n",
       " 'Dartmouth',\n",
       " 'Cornell',\n",
       " 'Columbia',\n",
       " 'Carnegie Mellon',\n",
       " 'Cambridge',\n",
       " 'Brown']"
      ]
     },
     "execution_count": 79,
     "metadata": {},
     "output_type": "execute_result"
    }
   ],
   "source": [
    "universities"
   ]
  },
  {
   "cell_type": "code",
   "execution_count": 80,
   "id": "aa779b68",
   "metadata": {},
   "outputs": [],
   "source": [
    "universities.remove(\"UCLA\")"
   ]
  },
  {
   "cell_type": "code",
   "execution_count": 81,
   "id": "002a0a5f",
   "metadata": {},
   "outputs": [
    {
     "data": {
      "text/plain": [
       "['Yale',\n",
       " 'Williams',\n",
       " 'Wellesey',\n",
       " 'Vanderbuilt',\n",
       " 'Swarthmore',\n",
       " 'Stanford',\n",
       " 'Princeton',\n",
       " 'Pomona',\n",
       " 'Oxford',\n",
       " 'New York',\n",
       " 'Havard',\n",
       " 'Duke',\n",
       " 'Dartmouth',\n",
       " 'Cornell',\n",
       " 'Columbia',\n",
       " 'Carnegie Mellon',\n",
       " 'Cambridge',\n",
       " 'Brown']"
      ]
     },
     "execution_count": 81,
     "metadata": {},
     "output_type": "execute_result"
    }
   ],
   "source": [
    "universities"
   ]
  },
  {
   "cell_type": "code",
   "execution_count": 82,
   "id": "88e5457d",
   "metadata": {},
   "outputs": [],
   "source": [
    "universities.remove(\"Pomona\")"
   ]
  },
  {
   "cell_type": "code",
   "execution_count": 83,
   "id": "c861c20e",
   "metadata": {},
   "outputs": [
    {
     "data": {
      "text/plain": [
       "['Yale',\n",
       " 'Williams',\n",
       " 'Wellesey',\n",
       " 'Vanderbuilt',\n",
       " 'Swarthmore',\n",
       " 'Stanford',\n",
       " 'Princeton',\n",
       " 'Oxford',\n",
       " 'New York',\n",
       " 'Havard',\n",
       " 'Duke',\n",
       " 'Dartmouth',\n",
       " 'Cornell',\n",
       " 'Columbia',\n",
       " 'Carnegie Mellon',\n",
       " 'Cambridge',\n",
       " 'Brown']"
      ]
     },
     "execution_count": 83,
     "metadata": {},
     "output_type": "execute_result"
    }
   ],
   "source": [
    "universities"
   ]
  },
  {
   "cell_type": "code",
   "execution_count": 84,
   "id": "fc86aaa9",
   "metadata": {},
   "outputs": [],
   "source": [
    "universities.remove(\"Wellesey\")"
   ]
  },
  {
   "cell_type": "code",
   "execution_count": 85,
   "id": "106ff82a",
   "metadata": {},
   "outputs": [
    {
     "data": {
      "text/plain": [
       "['Yale',\n",
       " 'Williams',\n",
       " 'Vanderbuilt',\n",
       " 'Swarthmore',\n",
       " 'Stanford',\n",
       " 'Princeton',\n",
       " 'Oxford',\n",
       " 'New York',\n",
       " 'Havard',\n",
       " 'Duke',\n",
       " 'Dartmouth',\n",
       " 'Cornell',\n",
       " 'Columbia',\n",
       " 'Carnegie Mellon',\n",
       " 'Cambridge',\n",
       " 'Brown']"
      ]
     },
     "execution_count": 85,
     "metadata": {},
     "output_type": "execute_result"
    }
   ],
   "source": [
    "universities"
   ]
  },
  {
   "cell_type": "code",
   "execution_count": 86,
   "id": "41b86e95",
   "metadata": {},
   "outputs": [
    {
     "data": {
      "text/plain": [
       "'Yale'"
      ]
     },
     "execution_count": 86,
     "metadata": {},
     "output_type": "execute_result"
    }
   ],
   "source": [
    "universities[0]#print item corresponding to given index"
   ]
  },
  {
   "cell_type": "code",
   "execution_count": 87,
   "id": "a05dfe7e",
   "metadata": {},
   "outputs": [
    {
     "data": {
      "text/plain": [
       "'Stanford'"
      ]
     },
     "execution_count": 87,
     "metadata": {},
     "output_type": "execute_result"
    }
   ],
   "source": [
    "universities[4]"
   ]
  },
  {
   "cell_type": "code",
   "execution_count": 88,
   "id": "0cf035c4",
   "metadata": {},
   "outputs": [
    {
     "data": {
      "text/plain": [
       "'Vanderbuilt'"
      ]
     },
     "execution_count": 88,
     "metadata": {},
     "output_type": "execute_result"
    }
   ],
   "source": [
    "universities[2]"
   ]
  },
  {
   "cell_type": "code",
   "execution_count": 89,
   "id": "7d7c7089",
   "metadata": {},
   "outputs": [
    {
     "data": {
      "text/plain": [
       "'New York'"
      ]
     },
     "execution_count": 89,
     "metadata": {},
     "output_type": "execute_result"
    }
   ],
   "source": [
    "universities[7]"
   ]
  },
  {
   "cell_type": "code",
   "execution_count": 90,
   "id": "7821859e",
   "metadata": {},
   "outputs": [
    {
     "data": {
      "text/plain": [
       "'Princeton'"
      ]
     },
     "execution_count": 90,
     "metadata": {},
     "output_type": "execute_result"
    }
   ],
   "source": [
    "universities[5]"
   ]
  },
  {
   "cell_type": "code",
   "execution_count": 91,
   "id": "5b63b0c7",
   "metadata": {},
   "outputs": [
    {
     "data": {
      "text/plain": [
       "'Brown'"
      ]
     },
     "execution_count": 91,
     "metadata": {},
     "output_type": "execute_result"
    }
   ],
   "source": [
    "universities[-1]"
   ]
  },
  {
   "cell_type": "code",
   "execution_count": 92,
   "id": "03f4c5ee",
   "metadata": {},
   "outputs": [
    {
     "data": {
      "text/plain": [
       "'Cambridge'"
      ]
     },
     "execution_count": 92,
     "metadata": {},
     "output_type": "execute_result"
    }
   ],
   "source": [
    "universities[-2]"
   ]
  },
  {
   "cell_type": "code",
   "execution_count": 93,
   "id": "e719dd2c",
   "metadata": {},
   "outputs": [
    {
     "data": {
      "text/plain": [
       "'Carnegie Mellon'"
      ]
     },
     "execution_count": 93,
     "metadata": {},
     "output_type": "execute_result"
    }
   ],
   "source": [
    "universities[-3]"
   ]
  },
  {
   "cell_type": "code",
   "execution_count": 94,
   "id": "854177e2",
   "metadata": {},
   "outputs": [
    {
     "data": {
      "text/plain": [
       "'Havard'"
      ]
     },
     "execution_count": 94,
     "metadata": {},
     "output_type": "execute_result"
    }
   ],
   "source": [
    "universities[-8]"
   ]
  },
  {
   "cell_type": "code",
   "execution_count": 95,
   "id": "3fada0a5",
   "metadata": {},
   "outputs": [
    {
     "data": {
      "text/plain": [
       "'Columbia'"
      ]
     },
     "execution_count": 95,
     "metadata": {},
     "output_type": "execute_result"
    }
   ],
   "source": [
    "universities[-4]"
   ]
  },
  {
   "cell_type": "code",
   "execution_count": 98,
   "id": "5454d277",
   "metadata": {},
   "outputs": [],
   "source": [
    "universities.insert(0,\"Pomona\")# add item on given index"
   ]
  },
  {
   "cell_type": "code",
   "execution_count": 99,
   "id": "f0c0b2f1",
   "metadata": {},
   "outputs": [
    {
     "data": {
      "text/plain": [
       "['Pomona',\n",
       " 'Yale',\n",
       " 'Williams',\n",
       " 'Vanderbuilt',\n",
       " 'Swarthmore',\n",
       " 'Stanford',\n",
       " 'Princeton',\n",
       " 'Oxford',\n",
       " 'New York',\n",
       " 'Havard',\n",
       " 'Duke',\n",
       " 'Dartmouth',\n",
       " 'Cornell',\n",
       " 'Columbia',\n",
       " 'Carnegie Mellon',\n",
       " 'Cambridge',\n",
       " 'Brown']"
      ]
     },
     "execution_count": 99,
     "metadata": {},
     "output_type": "execute_result"
    }
   ],
   "source": [
    "universities"
   ]
  },
  {
   "cell_type": "code",
   "execution_count": 100,
   "id": "2aac3f55",
   "metadata": {},
   "outputs": [],
   "source": [
    "universities.insert(4,\"NUST\")"
   ]
  },
  {
   "cell_type": "code",
   "execution_count": 101,
   "id": "6d16ffb9",
   "metadata": {},
   "outputs": [
    {
     "data": {
      "text/plain": [
       "['Pomona',\n",
       " 'Yale',\n",
       " 'Williams',\n",
       " 'Vanderbuilt',\n",
       " 'NUST',\n",
       " 'Swarthmore',\n",
       " 'Stanford',\n",
       " 'Princeton',\n",
       " 'Oxford',\n",
       " 'New York',\n",
       " 'Havard',\n",
       " 'Duke',\n",
       " 'Dartmouth',\n",
       " 'Cornell',\n",
       " 'Columbia',\n",
       " 'Carnegie Mellon',\n",
       " 'Cambridge',\n",
       " 'Brown']"
      ]
     },
     "execution_count": 101,
     "metadata": {},
     "output_type": "execute_result"
    }
   ],
   "source": [
    "universities"
   ]
  },
  {
   "cell_type": "code",
   "execution_count": 102,
   "id": "d61a32bd",
   "metadata": {},
   "outputs": [],
   "source": [
    "universities.insert(7,\"UCT\")"
   ]
  },
  {
   "cell_type": "code",
   "execution_count": 103,
   "id": "84c99815",
   "metadata": {},
   "outputs": [
    {
     "data": {
      "text/plain": [
       "['Pomona',\n",
       " 'Yale',\n",
       " 'Williams',\n",
       " 'Vanderbuilt',\n",
       " 'NUST',\n",
       " 'Swarthmore',\n",
       " 'Stanford',\n",
       " 'UCT',\n",
       " 'Princeton',\n",
       " 'Oxford',\n",
       " 'New York',\n",
       " 'Havard',\n",
       " 'Duke',\n",
       " 'Dartmouth',\n",
       " 'Cornell',\n",
       " 'Columbia',\n",
       " 'Carnegie Mellon',\n",
       " 'Cambridge',\n",
       " 'Brown']"
      ]
     },
     "execution_count": 103,
     "metadata": {},
     "output_type": "execute_result"
    }
   ],
   "source": [
    "universities"
   ]
  },
  {
   "cell_type": "code",
   "execution_count": 104,
   "id": "65f602c7",
   "metadata": {},
   "outputs": [],
   "source": [
    "universities.insert(5,\"Welsyan\")"
   ]
  },
  {
   "cell_type": "code",
   "execution_count": 105,
   "id": "069a5a68",
   "metadata": {},
   "outputs": [
    {
     "data": {
      "text/plain": [
       "['Pomona',\n",
       " 'Yale',\n",
       " 'Williams',\n",
       " 'Vanderbuilt',\n",
       " 'NUST',\n",
       " 'Welsyan',\n",
       " 'Swarthmore',\n",
       " 'Stanford',\n",
       " 'UCT',\n",
       " 'Princeton',\n",
       " 'Oxford',\n",
       " 'New York',\n",
       " 'Havard',\n",
       " 'Duke',\n",
       " 'Dartmouth',\n",
       " 'Cornell',\n",
       " 'Columbia',\n",
       " 'Carnegie Mellon',\n",
       " 'Cambridge',\n",
       " 'Brown']"
      ]
     },
     "execution_count": 105,
     "metadata": {},
     "output_type": "execute_result"
    }
   ],
   "source": [
    "universities"
   ]
  },
  {
   "cell_type": "code",
   "execution_count": 106,
   "id": "d9a83628",
   "metadata": {},
   "outputs": [],
   "source": [
    "universities.insert(1,\"UniLag\")"
   ]
  },
  {
   "cell_type": "code",
   "execution_count": 107,
   "id": "96acfb01",
   "metadata": {},
   "outputs": [
    {
     "data": {
      "text/plain": [
       "['Pomona',\n",
       " 'UniLag',\n",
       " 'Yale',\n",
       " 'Williams',\n",
       " 'Vanderbuilt',\n",
       " 'NUST',\n",
       " 'Welsyan',\n",
       " 'Swarthmore',\n",
       " 'Stanford',\n",
       " 'UCT',\n",
       " 'Princeton',\n",
       " 'Oxford',\n",
       " 'New York',\n",
       " 'Havard',\n",
       " 'Duke',\n",
       " 'Dartmouth',\n",
       " 'Cornell',\n",
       " 'Columbia',\n",
       " 'Carnegie Mellon',\n",
       " 'Cambridge',\n",
       " 'Brown']"
      ]
     },
     "execution_count": 107,
     "metadata": {},
     "output_type": "execute_result"
    }
   ],
   "source": [
    "universities"
   ]
  },
  {
   "cell_type": "code",
   "execution_count": 108,
   "id": "8919d06d",
   "metadata": {},
   "outputs": [],
   "source": [
    "universities.insert(3,\"Swarthmore\")"
   ]
  },
  {
   "cell_type": "code",
   "execution_count": 109,
   "id": "088fabb6",
   "metadata": {},
   "outputs": [
    {
     "data": {
      "text/plain": [
       "['Pomona',\n",
       " 'UniLag',\n",
       " 'Yale',\n",
       " 'Swarthmore',\n",
       " 'Williams',\n",
       " 'Vanderbuilt',\n",
       " 'NUST',\n",
       " 'Welsyan',\n",
       " 'Swarthmore',\n",
       " 'Stanford',\n",
       " 'UCT',\n",
       " 'Princeton',\n",
       " 'Oxford',\n",
       " 'New York',\n",
       " 'Havard',\n",
       " 'Duke',\n",
       " 'Dartmouth',\n",
       " 'Cornell',\n",
       " 'Columbia',\n",
       " 'Carnegie Mellon',\n",
       " 'Cambridge',\n",
       " 'Brown']"
      ]
     },
     "execution_count": 109,
     "metadata": {},
     "output_type": "execute_result"
    }
   ],
   "source": [
    "universities"
   ]
  },
  {
   "cell_type": "code",
   "execution_count": 110,
   "id": "63bdd1a1",
   "metadata": {},
   "outputs": [],
   "source": [
    "universities.insert(8,\"Alberta\")"
   ]
  },
  {
   "cell_type": "code",
   "execution_count": 111,
   "id": "85bb7701",
   "metadata": {},
   "outputs": [
    {
     "data": {
      "text/plain": [
       "['Pomona',\n",
       " 'UniLag',\n",
       " 'Yale',\n",
       " 'Swarthmore',\n",
       " 'Williams',\n",
       " 'Vanderbuilt',\n",
       " 'NUST',\n",
       " 'Welsyan',\n",
       " 'Alberta',\n",
       " 'Swarthmore',\n",
       " 'Stanford',\n",
       " 'UCT',\n",
       " 'Princeton',\n",
       " 'Oxford',\n",
       " 'New York',\n",
       " 'Havard',\n",
       " 'Duke',\n",
       " 'Dartmouth',\n",
       " 'Cornell',\n",
       " 'Columbia',\n",
       " 'Carnegie Mellon',\n",
       " 'Cambridge',\n",
       " 'Brown']"
      ]
     },
     "execution_count": 111,
     "metadata": {},
     "output_type": "execute_result"
    }
   ],
   "source": [
    "universities"
   ]
  },
  {
   "cell_type": "code",
   "execution_count": 112,
   "id": "0590e345",
   "metadata": {},
   "outputs": [],
   "source": [
    "universities.insert(6,\"UJ\")"
   ]
  },
  {
   "cell_type": "code",
   "execution_count": 113,
   "id": "33893209",
   "metadata": {},
   "outputs": [
    {
     "data": {
      "text/plain": [
       "['Pomona',\n",
       " 'UniLag',\n",
       " 'Yale',\n",
       " 'Swarthmore',\n",
       " 'Williams',\n",
       " 'Vanderbuilt',\n",
       " 'UJ',\n",
       " 'NUST',\n",
       " 'Welsyan',\n",
       " 'Alberta',\n",
       " 'Swarthmore',\n",
       " 'Stanford',\n",
       " 'UCT',\n",
       " 'Princeton',\n",
       " 'Oxford',\n",
       " 'New York',\n",
       " 'Havard',\n",
       " 'Duke',\n",
       " 'Dartmouth',\n",
       " 'Cornell',\n",
       " 'Columbia',\n",
       " 'Carnegie Mellon',\n",
       " 'Cambridge',\n",
       " 'Brown']"
      ]
     },
     "execution_count": 113,
     "metadata": {},
     "output_type": "execute_result"
    }
   ],
   "source": [
    "universities"
   ]
  },
  {
   "cell_type": "code",
   "execution_count": 114,
   "id": "ca25226d",
   "metadata": {},
   "outputs": [],
   "source": [
    "universities.insert(2,\"Cavendish\")"
   ]
  },
  {
   "cell_type": "code",
   "execution_count": 115,
   "id": "4ccc989f",
   "metadata": {},
   "outputs": [
    {
     "data": {
      "text/plain": [
       "['Pomona',\n",
       " 'UniLag',\n",
       " 'Cavendish',\n",
       " 'Yale',\n",
       " 'Swarthmore',\n",
       " 'Williams',\n",
       " 'Vanderbuilt',\n",
       " 'UJ',\n",
       " 'NUST',\n",
       " 'Welsyan',\n",
       " 'Alberta',\n",
       " 'Swarthmore',\n",
       " 'Stanford',\n",
       " 'UCT',\n",
       " 'Princeton',\n",
       " 'Oxford',\n",
       " 'New York',\n",
       " 'Havard',\n",
       " 'Duke',\n",
       " 'Dartmouth',\n",
       " 'Cornell',\n",
       " 'Columbia',\n",
       " 'Carnegie Mellon',\n",
       " 'Cambridge',\n",
       " 'Brown']"
      ]
     },
     "execution_count": 115,
     "metadata": {},
     "output_type": "execute_result"
    }
   ],
   "source": [
    "universities"
   ]
  },
  {
   "cell_type": "code",
   "execution_count": 116,
   "id": "e3837a51",
   "metadata": {},
   "outputs": [],
   "source": [
    "universities.insert(0,\"Ashesi\")"
   ]
  },
  {
   "cell_type": "code",
   "execution_count": 117,
   "id": "5e4e6387",
   "metadata": {},
   "outputs": [
    {
     "data": {
      "text/plain": [
       "['Ashesi',\n",
       " 'Pomona',\n",
       " 'UniLag',\n",
       " 'Cavendish',\n",
       " 'Yale',\n",
       " 'Swarthmore',\n",
       " 'Williams',\n",
       " 'Vanderbuilt',\n",
       " 'UJ',\n",
       " 'NUST',\n",
       " 'Welsyan',\n",
       " 'Alberta',\n",
       " 'Swarthmore',\n",
       " 'Stanford',\n",
       " 'UCT',\n",
       " 'Princeton',\n",
       " 'Oxford',\n",
       " 'New York',\n",
       " 'Havard',\n",
       " 'Duke',\n",
       " 'Dartmouth',\n",
       " 'Cornell',\n",
       " 'Columbia',\n",
       " 'Carnegie Mellon',\n",
       " 'Cambridge',\n",
       " 'Brown']"
      ]
     },
     "execution_count": 117,
     "metadata": {},
     "output_type": "execute_result"
    }
   ],
   "source": [
    "universities"
   ]
  },
  {
   "cell_type": "code",
   "execution_count": 118,
   "id": "51080e5f",
   "metadata": {},
   "outputs": [
    {
     "data": {
      "text/plain": [
       "['Ashesi', 'Pomona', 'UniLag']"
      ]
     },
     "execution_count": 118,
     "metadata": {},
     "output_type": "execute_result"
    }
   ],
   "source": [
    "universities[:3]# print the list and stop just before the given index"
   ]
  },
  {
   "cell_type": "code",
   "execution_count": 119,
   "id": "60a1ce86",
   "metadata": {},
   "outputs": [
    {
     "data": {
      "text/plain": [
       "['Ashesi', 'Pomona', 'UniLag', 'Cavendish', 'Yale', 'Swarthmore']"
      ]
     },
     "execution_count": 119,
     "metadata": {},
     "output_type": "execute_result"
    }
   ],
   "source": [
    "universities[:6]"
   ]
  },
  {
   "cell_type": "code",
   "execution_count": 120,
   "id": "10fc7d59",
   "metadata": {},
   "outputs": [
    {
     "data": {
      "text/plain": [
       "['Ashesi', 'Pomona']"
      ]
     },
     "execution_count": 120,
     "metadata": {},
     "output_type": "execute_result"
    }
   ],
   "source": [
    "universities[:2]"
   ]
  },
  {
   "cell_type": "code",
   "execution_count": 121,
   "id": "22280722",
   "metadata": {},
   "outputs": [
    {
     "data": {
      "text/plain": [
       "['Ashesi', 'Pomona', 'UniLag', 'Cavendish', 'Yale']"
      ]
     },
     "execution_count": 121,
     "metadata": {},
     "output_type": "execute_result"
    }
   ],
   "source": [
    "universities[:5]"
   ]
  },
  {
   "cell_type": "code",
   "execution_count": 122,
   "id": "61234aa3",
   "metadata": {},
   "outputs": [
    {
     "data": {
      "text/plain": [
       "['Ashesi',\n",
       " 'Pomona',\n",
       " 'UniLag',\n",
       " 'Cavendish',\n",
       " 'Yale',\n",
       " 'Swarthmore',\n",
       " 'Williams',\n",
       " 'Vanderbuilt']"
      ]
     },
     "execution_count": 122,
     "metadata": {},
     "output_type": "execute_result"
    }
   ],
   "source": [
    "universities[:8]"
   ]
  },
  {
   "cell_type": "code",
   "execution_count": 123,
   "id": "e8b61144",
   "metadata": {},
   "outputs": [
    {
     "data": {
      "text/plain": [
       "['Yale',\n",
       " 'Swarthmore',\n",
       " 'Williams',\n",
       " 'Vanderbuilt',\n",
       " 'UJ',\n",
       " 'NUST',\n",
       " 'Welsyan',\n",
       " 'Alberta',\n",
       " 'Swarthmore',\n",
       " 'Stanford',\n",
       " 'UCT',\n",
       " 'Princeton',\n",
       " 'Oxford',\n",
       " 'New York',\n",
       " 'Havard',\n",
       " 'Duke',\n",
       " 'Dartmouth',\n",
       " 'Cornell',\n",
       " 'Columbia',\n",
       " 'Carnegie Mellon',\n",
       " 'Cambridge',\n",
       " 'Brown']"
      ]
     },
     "execution_count": 123,
     "metadata": {},
     "output_type": "execute_result"
    }
   ],
   "source": [
    "universities[4:]#print list including item on the given index"
   ]
  },
  {
   "cell_type": "code",
   "execution_count": 126,
   "id": "5c688678",
   "metadata": {},
   "outputs": [
    {
     "data": {
      "text/plain": [
       "['UJ',\n",
       " 'NUST',\n",
       " 'Welsyan',\n",
       " 'Alberta',\n",
       " 'Swarthmore',\n",
       " 'Stanford',\n",
       " 'UCT',\n",
       " 'Princeton',\n",
       " 'Oxford',\n",
       " 'New York',\n",
       " 'Havard',\n",
       " 'Duke',\n",
       " 'Dartmouth',\n",
       " 'Cornell',\n",
       " 'Columbia',\n",
       " 'Carnegie Mellon',\n",
       " 'Cambridge',\n",
       " 'Brown']"
      ]
     },
     "execution_count": 126,
     "metadata": {},
     "output_type": "execute_result"
    }
   ],
   "source": [
    "universities[8:]"
   ]
  },
  {
   "cell_type": "code",
   "execution_count": 127,
   "id": "89ab40fa",
   "metadata": {},
   "outputs": [
    {
     "data": {
      "text/plain": [
       "['UCT',\n",
       " 'Princeton',\n",
       " 'Oxford',\n",
       " 'New York',\n",
       " 'Havard',\n",
       " 'Duke',\n",
       " 'Dartmouth',\n",
       " 'Cornell',\n",
       " 'Columbia',\n",
       " 'Carnegie Mellon',\n",
       " 'Cambridge',\n",
       " 'Brown']"
      ]
     },
     "execution_count": 127,
     "metadata": {},
     "output_type": "execute_result"
    }
   ],
   "source": [
    "universities[14:]"
   ]
  },
  {
   "cell_type": "code",
   "execution_count": 128,
   "id": "88709b33",
   "metadata": {},
   "outputs": [
    {
     "data": {
      "text/plain": [
       "['New York',\n",
       " 'Havard',\n",
       " 'Duke',\n",
       " 'Dartmouth',\n",
       " 'Cornell',\n",
       " 'Columbia',\n",
       " 'Carnegie Mellon',\n",
       " 'Cambridge',\n",
       " 'Brown']"
      ]
     },
     "execution_count": 128,
     "metadata": {},
     "output_type": "execute_result"
    }
   ],
   "source": [
    "universities[17:]"
   ]
  },
  {
   "cell_type": "code",
   "execution_count": 129,
   "id": "1fbb432e",
   "metadata": {},
   "outputs": [
    {
     "data": {
      "text/plain": [
       "['Dartmouth', 'Cornell', 'Columbia', 'Carnegie Mellon', 'Cambridge', 'Brown']"
      ]
     },
     "execution_count": 129,
     "metadata": {},
     "output_type": "execute_result"
    }
   ],
   "source": [
    "universities[20:]"
   ]
  },
  {
   "cell_type": "code",
   "execution_count": 130,
   "id": "83b9b291",
   "metadata": {},
   "outputs": [
    {
     "data": {
      "text/plain": [
       "1"
      ]
     },
     "execution_count": 130,
     "metadata": {},
     "output_type": "execute_result"
    }
   ],
   "source": [
    "universities.count(\"Dartmouth\")#count how many times something appears in a list"
   ]
  },
  {
   "cell_type": "code",
   "execution_count": 131,
   "id": "3e9df691",
   "metadata": {},
   "outputs": [
    {
     "data": {
      "text/plain": [
       "1"
      ]
     },
     "execution_count": 131,
     "metadata": {},
     "output_type": "execute_result"
    }
   ],
   "source": [
    "universities.count(\"Brown\")"
   ]
  },
  {
   "cell_type": "code",
   "execution_count": 132,
   "id": "42fd716f",
   "metadata": {},
   "outputs": [],
   "source": [
    "universities.clear()# remove everything in our list"
   ]
  },
  {
   "cell_type": "code",
   "execution_count": 133,
   "id": "3f737c63",
   "metadata": {},
   "outputs": [
    {
     "data": {
      "text/plain": [
       "[]"
      ]
     },
     "execution_count": 133,
     "metadata": {},
     "output_type": "execute_result"
    }
   ],
   "source": [
    "universities"
   ]
  },
  {
   "cell_type": "code",
   "execution_count": 134,
   "id": "51b2b4c3",
   "metadata": {},
   "outputs": [
    {
     "data": {
      "text/plain": [
       "['Pomona',\n",
       " 'Swarthmore',\n",
       " 'Cambridge',\n",
       " 'Oxford',\n",
       " 'Havard',\n",
       " 'Yale',\n",
       " 'Brown',\n",
       " 'Princeton',\n",
       " 'Dartmouth',\n",
       " 'Stanford',\n",
       " 'Cornell',\n",
       " 'Vanderbuilt',\n",
       " 'Williams',\n",
       " 'UCT']"
      ]
     },
     "execution_count": 134,
     "metadata": {},
     "output_type": "execute_result"
    }
   ],
   "source": [
    "my_choices# show that copy remains unchanged"
   ]
  },
  {
   "cell_type": "code",
   "execution_count": null,
   "id": "86f8339c",
   "metadata": {},
   "outputs": [],
   "source": []
  }
 ],
 "metadata": {
  "kernelspec": {
   "display_name": "Python 3 (ipykernel)",
   "language": "python",
   "name": "python3"
  },
  "language_info": {
   "codemirror_mode": {
    "name": "ipython",
    "version": 3
   },
   "file_extension": ".py",
   "mimetype": "text/x-python",
   "name": "python",
   "nbconvert_exporter": "python",
   "pygments_lexer": "ipython3",
   "version": "3.11.5"
  }
 },
 "nbformat": 4,
 "nbformat_minor": 5
}
